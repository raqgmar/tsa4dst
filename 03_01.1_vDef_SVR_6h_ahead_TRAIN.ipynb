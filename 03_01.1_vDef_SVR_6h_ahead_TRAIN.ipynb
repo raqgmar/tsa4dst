{
  "cells": [
    {
      "cell_type": "markdown",
      "metadata": {
        "id": "xHP5VOu0oiCD"
      },
      "source": [
        "# 0 Preparación del entorno.\n",
        "\n",
        "## 0.1 Definición de parámetros"
      ]
    },
    {
      "cell_type": "code",
      "execution_count": 75,
      "metadata": {
        "id": "xussTphZSYVz"
      },
      "outputs": [],
      "source": [
        "tfm_path='/content/drive/MyDrive/TFM data/'\n",
        "H1_code = 'OMNI2_H0_MRG1HR'\n",
        "M5_code = 'OMNI_HRO2_5MIN'\n",
        "lookback = 12\n",
        "lookforward = 6\n",
        "tfm_path_Nh_models = f'PRED_{lookforward}h/'\n",
        "cols_to_use = ['Bx', 'By_gse', 'Bz_gse', 'By_gsm', 'Bz_gsm', 'P_density', 'E_field', 'plasma_T', 'plasma_V', 'Dst'] # 'AP', out\n",
        "col_to_predict = \"Dst\"\n",
        "hstorms_data = 'historical_storms_gruet2018.csv'\n",
        "weak_threshold = -30 #1\n",
        "moderate_threshold = -50 #2\n",
        "strong_threshold = -100 #3\n",
        "severe_threshold = -200 #4\n",
        "great_threshold = -300 #5\n",
        "gamma_value=0.0001\n",
        "temporal_margin=5*24 # margen para obtener tiempos ampliados de las tormentas de gruet et al 2018\n",
        "test_size = 0.2\n",
        "kernels = ['linear', 'poly', 'rbf', 'sigmoid']"
      ]
    },
    {
      "cell_type": "code",
      "execution_count": 76,
      "metadata": {
        "id": "O_--aI_jQ0u0"
      },
      "outputs": [],
      "source": [
        "PATH_NN_RES_BY_STORM = \"/content/drive/MyDrive/TFM data/RESULTADOS/SVR_{}h_res_by_storm/storm_{}.csv\"\n",
        "PATH_NN_RES_BY_STORM_PLOTS = \"/content/drive/MyDrive/TFM data/RESULTADOS/SVR_{}h_res_by_storm/storm_{}.png\""
      ]
    },
    {
      "cell_type": "markdown",
      "metadata": {
        "id": "JTnEx3feo7e4"
      },
      "source": [
        "## 0.2 Montar Google Drive (obtención de datos)"
      ]
    },
    {
      "cell_type": "code",
      "execution_count": 77,
      "metadata": {
        "id": "n2tXbl93Tndp",
        "colab": {
          "base_uri": "https://localhost:8080/"
        },
        "outputId": "d8e49dc9-16a0-4bb7-b7f5-08b36d533d62"
      },
      "outputs": [
        {
          "output_type": "stream",
          "name": "stdout",
          "text": [
            "Drive already mounted at /content/drive; to attempt to forcibly remount, call drive.mount(\"/content/drive\", force_remount=True).\n"
          ]
        }
      ],
      "source": [
        "from google.colab import drive\n",
        "drive.mount('/content/drive')\n",
        "!rm -rf sample_data/"
      ]
    },
    {
      "cell_type": "code",
      "source": [
        "# Crear el directorio\n",
        "os.makedirs('/content/drive/MyDrive/TFM data/RESULTADOS/', exist_ok=True)"
      ],
      "metadata": {
        "id": "cMZUCXFrvJRM"
      },
      "execution_count": 78,
      "outputs": []
    },
    {
      "cell_type": "markdown",
      "metadata": {
        "id": "WNzRT2z-o-ps"
      },
      "source": [
        "## 0.3 Importación de librerías"
      ]
    },
    {
      "cell_type": "code",
      "execution_count": 79,
      "metadata": {
        "colab": {
          "base_uri": "https://localhost:8080/"
        },
        "id": "OJtQv_kvy3ky",
        "outputId": "94e4f23c-ea54-431c-bd92-66cf3a38ee8b"
      },
      "outputs": [
        {
          "output_type": "stream",
          "name": "stdout",
          "text": [
            "Requirement already satisfied: optuna in /usr/local/lib/python3.10/dist-packages (3.6.1)\n",
            "Requirement already satisfied: alembic>=1.5.0 in /usr/local/lib/python3.10/dist-packages (from optuna) (1.13.2)\n",
            "Requirement already satisfied: colorlog in /usr/local/lib/python3.10/dist-packages (from optuna) (6.8.2)\n",
            "Requirement already satisfied: numpy in /usr/local/lib/python3.10/dist-packages (from optuna) (1.25.2)\n",
            "Requirement already satisfied: packaging>=20.0 in /usr/local/lib/python3.10/dist-packages (from optuna) (24.1)\n",
            "Requirement already satisfied: sqlalchemy>=1.3.0 in /usr/local/lib/python3.10/dist-packages (from optuna) (2.0.31)\n",
            "Requirement already satisfied: tqdm in /usr/local/lib/python3.10/dist-packages (from optuna) (4.66.4)\n",
            "Requirement already satisfied: PyYAML in /usr/local/lib/python3.10/dist-packages (from optuna) (6.0.1)\n",
            "Requirement already satisfied: Mako in /usr/local/lib/python3.10/dist-packages (from alembic>=1.5.0->optuna) (1.3.5)\n",
            "Requirement already satisfied: typing-extensions>=4 in /usr/local/lib/python3.10/dist-packages (from alembic>=1.5.0->optuna) (4.12.2)\n",
            "Requirement already satisfied: greenlet!=0.4.17 in /usr/local/lib/python3.10/dist-packages (from sqlalchemy>=1.3.0->optuna) (3.0.3)\n",
            "Requirement already satisfied: MarkupSafe>=0.9.2 in /usr/local/lib/python3.10/dist-packages (from Mako->alembic>=1.5.0->optuna) (2.1.5)\n"
          ]
        }
      ],
      "source": [
        "!pip install optuna"
      ]
    },
    {
      "cell_type": "code",
      "execution_count": 80,
      "metadata": {
        "id": "sJuDqU5SzL4m"
      },
      "outputs": [],
      "source": [
        "import os\n",
        "\n",
        "import numpy as np\n",
        "\n",
        "# librerías de manipulación de datos y gráficos\n",
        "import pandas as pd\n",
        "import matplotlib.dates as mdates\n",
        "import numpy as np\n",
        "\n",
        "# gráficos\n",
        "import matplotlib.pyplot as plt\n",
        "import seaborn as sns\n",
        "import plotly.graph_objs as go\n",
        "from plotly.subplots import make_subplots\n",
        "\n",
        "# modelo\n",
        "from sklearn.svm import SVR\n",
        "#from thundersvm import SVR\n",
        "# escalado y división en train/test\n",
        "from sklearn.preprocessing import StandardScaler\n",
        "from sklearn.model_selection import train_test_split\n",
        "from sklearn.metrics import mean_squared_error\n",
        "\n",
        "# obtención de métricas\n",
        "from sklearn.metrics import mean_squared_error, mean_absolute_error, r2_score\n",
        "from sklearn.metrics import mean_squared_log_error, median_absolute_error\n",
        "from sklearn.metrics import explained_variance_score, max_error\n",
        "\n",
        "# meta\n",
        "# timer\n",
        "import time\n",
        "\n",
        "#optuna\n",
        "import optuna"
      ]
    },
    {
      "cell_type": "markdown",
      "metadata": {
        "id": "9cUAiVDJpFBD"
      },
      "source": [
        "## 0.4 Definición de funciones"
      ]
    },
    {
      "cell_type": "code",
      "execution_count": 81,
      "metadata": {
        "id": "MKGLdDwbtVg3"
      },
      "outputs": [],
      "source": [
        "def exploracion_inicial_datos(df):\n",
        "    \"\"\"\n",
        "    Función para realizar una exploración inicial de los datos.\n",
        "\n",
        "    Parámetros:\n",
        "    df (dataframe): El dataframe que contiene los datos.\n",
        "\n",
        "    Muestra las primeras filas, estadísticas descriptivas, valores faltantes,\n",
        "    histogramas de variables numéricas y un mapa de calor de la correlación.\n",
        "    \"\"\"\n",
        "    # Configuración de visualización\n",
        "    sns.set(style=\"whitegrid\")  # Estilo de gráficos\n",
        "\n",
        "\n",
        "    print(\"Primeras filas del DataFrame:\")\n",
        "    print(df.head())\n",
        "\n",
        "\n",
        "    print(\"\\nDescripción estadística de los datos:\")\n",
        "    print(df.describe())\n",
        "\n",
        "\n",
        "    print(\"\\nValores faltantes por columna:\")\n",
        "    print(df.isnull().sum())\n",
        "\n",
        "\n",
        "    print(\"\\nVisualización de histogramas para variables numéricas:\")\n",
        "    df.hist(bins=15, figsize=(15, 10), layout=(5, 4))\n",
        "    plt.show()\n",
        "    print(\"\\nMapa de calor de la matriz de correlación:\")\n",
        "    plt.figure(figsize=(10, 8))\n",
        "    sns.heatmap(df.corr(), annot=True, fmt=\".2f\", cmap='coolwarm')\n",
        "    plt.show()\n",
        "\n",
        "\n",
        "def calcular_layout_optimo(num_cols):\n",
        "    \"\"\"\n",
        "    Calcula el número óptimo de filas y columnas para una figura con subgráficos,\n",
        "    tratando de mantener una forma que sea visualmente agradable y que aproveche el espacio.\n",
        "\n",
        "    Parámetros:\n",
        "    num_cols (int): Número total de columnas (gráficos) a mostrar.\n",
        "\n",
        "    Retorna:\n",
        "    (int, int): Número de filas y columnas para el layout de los subgráficos.\n",
        "    \"\"\"\n",
        "    # Calcula el número óptimo de columnas teniendo un límite visual razonable\n",
        "    cols_per_row = int(np.sqrt(num_cols)) + 1  # Ajuste para maximizar el uso del espacio y la forma de la figura\n",
        "    rows_needed = (num_cols + cols_per_row - 1) // cols_per_row  # Redondeo hacia arriba para incluir todas las columnas\n",
        "    return rows_needed, cols_per_row\n",
        "\n",
        "def exploracion_histogramas(df):\n",
        "    \"\"\"\n",
        "    Función para generar histogramas para todas las columnas numéricas en un DataFrame,\n",
        "    excluyendo las columnas de tipo datetime y no numéricas.\n",
        "\n",
        "    Parámetros:\n",
        "    df (DataFrame): DataFrame de pandas con los datos a analizar.\n",
        "    \"\"\"\n",
        "    # Eliminar columnas no numéricas y de tipo datetime\n",
        "    df_numerico = df.select_dtypes(include=[np.number])\n",
        "\n",
        "    # Número de columnas numéricas\n",
        "    num_cols = df_numerico.shape[1]\n",
        "\n",
        "    # Verificar si hay columnas para mostrar\n",
        "    if num_cols == 0:\n",
        "        print(\"No hay columnas numéricas para mostrar.\")\n",
        "        return\n",
        "\n",
        "    # Calculando el layout necesario\n",
        "    rows_needed, cols_per_row = calcular_layout_optimo(num_cols)\n",
        "\n",
        "    # Crear histogramas\n",
        "    df_numerico.hist(bins=15, figsize=(15, 10), layout=(rows_needed, cols_per_row))\n",
        "    plt.show()\n",
        "\n",
        "def imputar_nan(df):\n",
        "  df.interpolate(method='linear', inplace=True)\n",
        "  df.fillna(method='ffill', inplace=True)\n",
        "  df.fillna(method='bfill', inplace=True)\n",
        "  if sum(df.isnull().sum())!=0:\n",
        "    print(\"Faltan nulos por tratar\")\n",
        "  return df\n",
        "\n",
        "def visualizar_nulos_plot(df, variable_with_nans):\n",
        "    \"\"\"\n",
        "    Plot the specified 'variable_with_nans' column and 'Dst' column from the DataFrame.\n",
        "\n",
        "    Parameters:\n",
        "    - df: pandas.DataFrame containing the data to plot.\n",
        "    - variable_with_nans: str, the name of the column in the DataFrame to plot, which may contain NaNs.\n",
        "\n",
        "    The function assumes that 'Dst' is a column name in the DataFrame and that the DataFrame's index is suitable for plotting (e.g., datetime).\n",
        "    \"\"\"\n",
        "    # Create the figure and subplots\n",
        "    fig, (ax1, ax2) = plt.subplots(2, 1, sharex=True, figsize=(20, 8))\n",
        "\n",
        "    # Handling NaNs in the 'variable_with_nans' column before plotting\n",
        "    df_plot = df.copy()\n",
        "    df_plot[variable_with_nans] = df_plot[variable_with_nans].fillna(method='ffill')  # Forward fill to handle NaNs\n",
        "\n",
        "    # Plotting 'variable_with_nans' on the first subplot\n",
        "    ax1.scatter(df_plot.index, df_plot[variable_with_nans], label=variable_with_nans, color='blue')\n",
        "    ax1.set_ylabel(variable_with_nans)\n",
        "    ax1.legend(loc='upper right')\n",
        "    ax1.grid(True)\n",
        "\n",
        "    # Plotting 'Dst' on the second subplot\n",
        "    ax2.plot(df_plot.index, df_plot['Dst'], label='Dst', color='red')\n",
        "    ax2.set_ylabel('Dst')\n",
        "    ax2.legend(loc='upper right')\n",
        "    ax2.grid(True)\n",
        "\n",
        "    # Setting the x-axis label only on the bottom subplot\n",
        "    ax2.set_xlabel('Datetime')\n",
        "\n",
        "    # Improve layout to prevent overlap\n",
        "    plt.tight_layout()\n",
        "\n",
        "    # Show the plot\n",
        "    plt.show()\n",
        "\n",
        "# Example of how to use this function with a DataFrame containing NaNs\n",
        "data = {\n",
        "    'Datetime': pd.date_range(start='2021-01-01', periods=100, freq='D'),\n",
        "    'variable_with_nans': pd.Series(range(100)).where(lambda x : x % 10 != 0),\n",
        "    'Dst': range(100, 0, -1)\n",
        "}\n",
        "df = pd.DataFrame(data)\n",
        "df.set_index('Datetime', inplace=True)\n",
        "\n",
        "def create_window_df_svr(list_dfs, lookback, lookforward, cols_to_use, col_to_predict, scaler_label=None):\n",
        "    \"\"\"\n",
        "    Creates input and output datasets for SVR training from a list of DataFrames, incorporating windowing and optional descaling for target\n",
        "\n",
        "    Parameters:\n",
        "    list_dfs (list of pandas.DataFrame): List of DataFrames to process.\n",
        "    lookback (int): Number of past records to include as features for each prediction.\n",
        "    lookforward (int): Number of records ahead to predict.\n",
        "    cols_to_use (list of str): List of column names to use as features.\n",
        "    col_to_predict (str): Column name to predict.\n",
        "    scaler_label (StandardScaler, optional): Scaler for the output variable, used for inverse transformation.\n",
        "\n",
        "    Returns:\n",
        "    tuple: A tuple containing arrays for training features and labels.\n",
        "    \"\"\"\n",
        "    x_train, y_train = [], []\n",
        "\n",
        "    for df_ in list_dfs:\n",
        "        df = df_.copy()\n",
        "\n",
        "        for i in range(len(df) - lookback - lookforward + 1):\n",
        "            x_train.append(np.asarray(df.iloc[i:i+lookback][cols_to_use].values))\n",
        "            y_train.append(np.asarray(df.iloc[i+lookback][col_to_predict]))\n",
        "\n",
        "    if scaler_label is not None:\n",
        "        y_train = scaler_label.inverse_transform(np.asarray(y_train).reshape(-1,1))\n",
        "\n",
        "    return np.asarray(x_train), np.asarray(y_train)\n",
        "\n",
        "\n",
        "def filter_storms(df, historical_storms, temporal_margin):\n",
        "    \"\"\"\n",
        "    Filter DataFrame entries based on the occurrence of storms within specific time intervals.\n",
        "\n",
        "    Parameters:\n",
        "    df (pandas.DataFrame): DataFrame containing time-series data with a 'Datetime' column.\n",
        "    historical_storms (pandas.DataFrame): DataFrame containing the start and end times of historical storms.\n",
        "    temporal_margin (int): Number of rows before and after the minimum Dst index to include in the result.\n",
        "\n",
        "    Returns:\n",
        "    list: A list of DataFrame snippets corresponding to the specified storm intervals.\n",
        "    \"\"\"\n",
        "    all_storms = []\n",
        "    for i in range(len(historical_storms)):\n",
        "        df_tmp = df[(df[\"Datetime\"] >= historical_storms.iloc[i][\"start\"]) & (df[\"Datetime\"] <= historical_storms.iloc[i][\"end\"])]\n",
        "        idx = df_tmp['Dst'].idxmin()\n",
        "        all_storms.append(df.iloc[idx-temporal_margin:idx+temporal_margin])\n",
        "    return all_storms\n",
        "\n",
        "def combinar_dataframes_solapados(dfs):\n",
        "    \"\"\"\n",
        "    Combines overlapping DataFrames in a list into non-overlapping DataFrames based on the 'Datetime' column.\n",
        "\n",
        "    Parameters:\n",
        "    dfs (list of pandas.DataFrame): List of DataFrames to combine.\n",
        "\n",
        "    Returns:\n",
        "    list: A list of combined DataFrames without overlap.\n",
        "    \"\"\"\n",
        "    dfs.sort(key=lambda x: x['Datetime'].min())\n",
        "    combinados = []\n",
        "    combinacion_actual = dfs[0]\n",
        "\n",
        "    for df in dfs[1:]:\n",
        "        if df['Datetime'].min() <= combinacion_actual['Datetime'].max():\n",
        "            combinacion_actual = pd.concat([combinacion_actual, df]).drop_duplicates().sort_values(by='Datetime')\n",
        "        else:\n",
        "            combinados.append(combinacion_actual)\n",
        "            combinacion_actual = df\n",
        "    combinados.append(combinacion_actual)\n",
        "    return combinados\n",
        "\n",
        "def scale_data(list_dfs, cols_to_use, col_to_predict):\n",
        "    \"\"\"\n",
        "    Scales columns in a list of DataFrames using StandardScaler.\n",
        "\n",
        "    Parameters:\n",
        "    list_dfs (list of pandas.DataFrame): List of DataFrames to scale.\n",
        "    cols_to_use (list of str): Column names to apply scaling to.\n",
        "    col_to_predict (str): Column name used as a label for prediction.\n",
        "\n",
        "    Returns:\n",
        "    tuple: A tuple containing the list of scaled DataFrames and the label scaler.\n",
        "    \"\"\"\n",
        "    list_dfs_ = []\n",
        "    scaler_cols = StandardScaler()\n",
        "    scaler_label = StandardScaler()\n",
        "    scaler_cols.fit(pd.concat(list_dfs)[cols_to_use])\n",
        "    scaler_label.fit(np.asarray(pd.concat(list_dfs)[col_to_predict]).reshape(-1,1))\n",
        "\n",
        "    for df_ in list_dfs:\n",
        "        df = df_.copy()\n",
        "        df[cols_to_use] = scaler_cols.transform(df[cols_to_use])\n",
        "        list_dfs_.append(df)\n",
        "\n",
        "    return list_dfs_, scaler_label\n",
        "\n",
        "\n",
        "\n",
        "def calc_metrics(predictions, y_test):\n",
        "  # Mean Squared Error\n",
        "  mse = mean_squared_error(y_test, predictions)\n",
        "  # Mean Absolute Error\n",
        "  mae = mean_absolute_error(y_test, predictions)\n",
        "  # R^2 Score, the coefficient of determination\n",
        "  r2 = r2_score(y_test, predictions)\n",
        "  # Median Absolute Error\n",
        "  medae = median_absolute_error(y_test, predictions)\n",
        "  # Explained Variance Score\n",
        "  explained_variance = explained_variance_score(y_test, predictions)\n",
        "  # Max Error\n",
        "  max_err = max_error(y_test, predictions)\n",
        "\n",
        "  return mse, mae, r2, medae, explained_variance, max_err\n",
        "\n",
        "\n",
        "def formatear_tiempo(segundos):\n",
        "    horas = int(segundos // 3600)\n",
        "    minutos = int((segundos % 3600) // 60)\n",
        "    segundos = segundos % 60\n",
        "    return f\"{horas} horas, {minutos} minutos, {segundos:.2f} segundos\"\n"
      ]
    },
    {
      "cell_type": "code",
      "execution_count": 82,
      "metadata": {
        "id": "dhsyk8pnCibA"
      },
      "outputs": [],
      "source": [
        "def evaluate_svr_models(X_train, y_train, X_test, y_test, kernels, C_values, epsilon_values, gamma_values, degree_values, verbose=True):\n",
        "    \"\"\"\n",
        "    Evaluate SVR models with different hyperparameter configurations and kernel types.\n",
        "\n",
        "    Args:\n",
        "    X_train (array): Independent training data.\n",
        "    y_train (array): Dependent training data (target).\n",
        "    X_test (array): Independent test data.\n",
        "    y_test (array): Dependent test data (target).\n",
        "    kernels (list): List of kernel types to evaluate.\n",
        "    C_values (list): List of values for the penalty parameter C.\n",
        "    epsilon_values (list): List of values for the epsilon parameter.\n",
        "    gamma_values (list): List of values for the gamma parameter.\n",
        "    degree_values (list): List of values for the degree parameter (used only in polynomial kernels).\n",
        "    verbose (bool, optional): If True, prints messages during the evaluation process. Default is True.\n",
        "\n",
        "    Returns:\n",
        "    DataFrame: A pandas DataFrame containing evaluation metrics for each parameter configuration.\n",
        "    dict: A dictionary of trained models, with keys describing the specific parameter configuration.\n",
        "\n",
        "    Note:\n",
        "    Assumes that the 'precomputed' kernel is only used if the 'precomputed_matrix' is defined in the local environment.\n",
        "    \"\"\"\n",
        "    results = []\n",
        "    models_dict = {}\n",
        "\n",
        "    for kernel_ in kernels:\n",
        "        for C in C_values:\n",
        "            for epsilon in epsilon_values:\n",
        "                # Check parameter relevance for gamma and degree for the current kernel\n",
        "                relevant_gamma_values = gamma_values if kernel_ in ['rbf', 'sigmoid', 'poly'] else [None]\n",
        "                relevant_degree_values = degree_values if kernel_ == 'poly' else [None]\n",
        "\n",
        "                for gamma in relevant_gamma_values:\n",
        "                    for degree in relevant_degree_values:\n",
        "                        start = time.time()\n",
        "                        config_key = f\"{kernel_}_C{C}_eps{epsilon}_gamma{gamma}_deg{degree}\"\n",
        "                        if verbose:\n",
        "                            print(f\"Starting {config_key}\")\n",
        "\n",
        "                        if kernel_ == \"precomputed\":\n",
        "                            if 'precomputed_matrix' in locals():\n",
        "                                model = SVR(kernel='precomputed', C=C, epsilon=epsilon)\n",
        "                                model.fit(precomputed_matrix, y_train)\n",
        "                                models_dict[config_key] = model\n",
        "                                continue\n",
        "                            else:\n",
        "                                if verbose:\n",
        "                                    print(\"Precomputed matrix not defined for kernel='precomputed'\")\n",
        "                                continue\n",
        "\n",
        "                        model = SVR(kernel=kernel_, C=C, epsilon=epsilon, gamma=(gamma if gamma is not None else 0.01), degree=(degree if degree is not None else 3))\n",
        "                        model.fit(X_train, y_train)\n",
        "                        models_dict[config_key] = model\n",
        "\n",
        "                        predictions = model.predict(X_test)\n",
        "                        mse, mae, r2, medae, explained_variance, max_err = calc_metrics(predictions, y_test)\n",
        "                        end = time.time()\n",
        "                        time_exec = formatear_tiempo(end - start)\n",
        "\n",
        "                        results.append({\n",
        "                            \"kernel\": kernel_,\n",
        "                            \"C\": C,\n",
        "                            \"epsilon\": epsilon,\n",
        "                            \"gamma\": gamma,\n",
        "                            \"degree\": degree,\n",
        "                            \"mse\": mse,\n",
        "                            \"mae\": mae,\n",
        "                            \"r2\": r2,\n",
        "                            \"medae\": medae,\n",
        "                            \"exp_var\": explained_variance,\n",
        "                            \"max_err\": max_err,\n",
        "                            \"time_exec\": time_exec\n",
        "                        })\n",
        "\n",
        "                        print(f\"{config_key} finished. Time for iteration: {time_exec} | mae: {mae} | mse: {mse} | exp_var: {explained_variance} | max_err: {max_err}\")\n",
        "\n",
        "    df_results = pd.DataFrame(results)\n",
        "    return df_results, models_dict\n"
      ]
    },
    {
      "cell_type": "markdown",
      "metadata": {
        "id": "k2QeXv3PQ0u5"
      },
      "source": [
        "Función para extraer las fechas de la nueva división de datos, una vez ampliadas las ventanas de cada tormenta a +-5 días desde el mínimo de cada tormenta, y eliminados los datos solapados"
      ]
    },
    {
      "cell_type": "code",
      "execution_count": 83,
      "metadata": {
        "id": "dlOlwxH0Q0u5"
      },
      "outputs": [],
      "source": [
        "def get_new_splits_dates(all_storms):\n",
        "    dates_start = []\n",
        "    dates_end = []\n",
        "    num_storm = []\n",
        "    min_dst_values = []\n",
        "\n",
        "    for idx, df in enumerate(all_storms):\n",
        "        dates_start.append(df[\"Datetime\"].iloc[0])\n",
        "        dates_end.append(df[\"Datetime\"].iloc[-1])\n",
        "        num_storm.append(idx+1)\n",
        "        min_dst_values.append(df[\"Dst\"].min())\n",
        "    df_new_storms = pd.DataFrame(\n",
        "        {\n",
        "            \"storm_index\": num_storm,\n",
        "            \"date_start\": dates_start,\n",
        "            \"date_end\": dates_end,\n",
        "            \"min_DST\": min_dst_values\n",
        "        }\n",
        "    )\n",
        "    return df_new_storms"
      ]
    },
    {
      "cell_type": "markdown",
      "metadata": {
        "id": "IJQ0e40dQ0u5"
      },
      "source": [
        "Función para sacar los scalers de las variables de input y de la label (Dst)"
      ]
    },
    {
      "cell_type": "code",
      "execution_count": 84,
      "metadata": {
        "id": "09vIUhHRQ0u6"
      },
      "outputs": [],
      "source": [
        "def get_scalers(list_dfs, cols_to_use, col_to_predict):\n",
        "    list_dfs_ = []\n",
        "    scaler_cols = StandardScaler()\n",
        "    scaler_label = StandardScaler()\n",
        "    scaler_cols.fit(pd.concat(list_dfs)[cols_to_use])\n",
        "    scaler_label.fit(np.asarray(pd.concat(list_dfs)[col_to_predict]).reshape(-1,1))\n",
        "\n",
        "    return scaler_cols, scaler_label"
      ]
    },
    {
      "cell_type": "markdown",
      "metadata": {
        "id": "jiVxxWeMQ0u6"
      },
      "source": [
        "Nueva función para crear ventanas de datos para input del modelo"
      ]
    },
    {
      "cell_type": "code",
      "execution_count": 85,
      "metadata": {
        "id": "T3bt8u57Q0u7"
      },
      "outputs": [],
      "source": [
        "def create_window_df_nn(list_dfs, lookback, lookforward, cols_to_use, col_to_predict, scaler_cols):\n",
        "    x_train, y_train = [], []\n",
        "\n",
        "    for df_ in list_dfs:\n",
        "        df = df_[cols_to_use].copy()\n",
        "        df.loc[:, cols_to_use] = scaler_cols.transform(df[cols_to_use])\n",
        "\n",
        "        for i in range(len(df) - lookback - lookforward + 1):\n",
        "            x_train.append(np.asarray(df.iloc[i:i+lookback].values))\n",
        "            y_train.append(np.asarray(df.iloc[i+lookback+lookforward-1][col_to_predict]))\n",
        "\n",
        "    return np.asarray(x_train), np.asarray(y_train)\n",
        "\n",
        "def create_window_df_nn_test(list_dfs, lookback, lookforward, cols_to_use, col_to_predict, scaler_cols):\n",
        "    x_train, y_train, date_pred, date_last_data = [], [], [], []\n",
        "\n",
        "    for df_ in list_dfs:\n",
        "        df = df_.copy()\n",
        "        df.loc[:, cols_to_use] = scaler_cols.transform(df[cols_to_use])\n",
        "\n",
        "        for i in range(len(df) - lookback - lookforward + 1):\n",
        "            x_train.append(np.asarray(df.iloc[i:i+lookback][cols_to_use].values))\n",
        "            y_train.append(np.asarray(df.iloc[i+lookback+lookforward-1][col_to_predict]))\n",
        "            date_last_data.append(df.iloc[i+lookback-1][\"Datetime\"])\n",
        "            date_pred.append(df.iloc[i+lookback+lookforward-1][\"Datetime\"])\n",
        "\n",
        "    return np.asarray(x_train), np.asarray(y_train), np.asarray(date_last_data), np.asarray(date_pred)"
      ]
    },
    {
      "cell_type": "code",
      "execution_count": 86,
      "metadata": {
        "id": "evyZilajQ0u7"
      },
      "outputs": [],
      "source": [
        "from sklearn.metrics import mean_squared_error, mean_absolute_error, r2_score, explained_variance_score, max_error, median_absolute_error\n",
        "from math import sqrt\n",
        "import sklearn\n",
        "\n",
        "def error_nn(y_pred, y_true, index_scaler):\n",
        "    y_pred = index_scaler.inverse_transform(y_pred.reshape(-1, 1))\n",
        "    y_true = index_scaler.inverse_transform(y_true.reshape(-1, 1))\n",
        "\n",
        "    print(y_pred.reshape(-1).shape)\n",
        "    print(y_true.reshape(-1).shape)\n",
        "    df_ = pd.DataFrame({\"y_pred\": y_pred.reshape(-1), \"y_true\": y_true.reshape(-1)})\n",
        "\n",
        "    mse = mean_squared_error(y_true, y_pred)\n",
        "    rmse = sqrt(mse)\n",
        "    mae = mean_absolute_error(y_true, y_pred)\n",
        "    r2 = r2_score(y_true, y_pred)\n",
        "    # Median Absolute Error\n",
        "    medae = median_absolute_error(y_true, y_pred)\n",
        "    # Explained Variance Score\n",
        "    explained_variance = explained_variance_score(y_true, y_pred)\n",
        "    # Max Error\n",
        "    max_err = max_error(y_true, y_pred)\n",
        "\n",
        "\n",
        "    data = {\n",
        "        'Métrica': ['RMSE', 'MSE', 'MAE', 'R²', 'MedAE', 'Varianza explicada', 'Max error'],\n",
        "        'Valor': [rmse, mse, mae, r2, medae, explained_variance, max_err]\n",
        "    }\n",
        "    df = pd.DataFrame(data)\n",
        "    df_invertido = df.transpose()\n",
        "    df_invertido.columns = df_invertido.iloc[0]\n",
        "    df_invertido = df_invertido[1:]\n",
        "    display(df_invertido)\n",
        "\n",
        "    # scatter plot\n",
        "    plt.figure(figsize=(8, 4))\n",
        "    plt.scatter(y_true, y_pred, c='blue', label='Predicciones vs. Valores reales')\n",
        "    plt.plot([min(y_true), max(y_true)], [min(y_true), max(y_true)], 'k--', lw=2, label='Línea de referencia')\n",
        "    plt.xlabel('Valores reales')\n",
        "    plt.ylabel('Predicciones')\n",
        "    plt.title('Diagrama de dispersión de Predicciones vs. Valores reales')\n",
        "    plt.legend()\n",
        "    plt.grid(True)\n",
        "    plt.show()\n",
        "\n",
        "    return"
      ]
    },
    {
      "cell_type": "markdown",
      "metadata": {
        "id": "IiZeUiNVpNrd"
      },
      "source": [
        "# 1. Carga y preparación de datos"
      ]
    },
    {
      "cell_type": "markdown",
      "metadata": {
        "id": "Kt5CN8t9pnMA"
      },
      "source": [
        "## 1.1 Carga de los datos"
      ]
    },
    {
      "cell_type": "code",
      "execution_count": 24,
      "metadata": {
        "id": "o0zK7ahApmQf"
      },
      "outputs": [],
      "source": [
        "hd = pd.read_csv(tfm_path+H1_code+'.csv', parse_dates=[\"Datetime\"])\n",
        "# md = pd.read_csv(tfm_path+M5_code+'.csv', parse_dates=[\"Datetime\"]) # no se va a usar por ahora\n",
        "historical_storms = pd.read_csv(tfm_path+hstorms_data)\n",
        "# historical_storms = historical_storms.drop(columns=['Min. Dst (nT)','Unnamed: 0'], axis=1)"
      ]
    },
    {
      "cell_type": "markdown",
      "metadata": {
        "id": "w4mHmDLrtEKs"
      },
      "source": [
        "- Ver qué columnas y tipo de datos contienen los df."
      ]
    },
    {
      "cell_type": "code",
      "execution_count": 25,
      "metadata": {
        "colab": {
          "base_uri": "https://localhost:8080/"
        },
        "id": "up24FqxwscRS",
        "outputId": "5a96be34-c0e7-4704-a551-277798ec4fe4"
      },
      "outputs": [
        {
          "output_type": "execute_result",
          "data": {
            "text/plain": [
              "Index(['ID_IMF', 'ID_plasma', 'Bmag', 'dev_Bmag', 'Bx', 'By_gse', 'Bz_gse',\n",
              "       'By_gsm', 'Bz_gsm', 'dev_Bx', 'dev_By', 'dev_Bz', 'P_density',\n",
              "       'dev_P_density', 'AP', 'dev_AP', 'E_field', 'plasma_T', 'dev_plasma_T',\n",
              "       'plasma_V', 'Dst', 'Datetime'],\n",
              "      dtype='object')"
            ]
          },
          "metadata": {},
          "execution_count": 25
        }
      ],
      "source": [
        "hd.columns"
      ]
    },
    {
      "cell_type": "code",
      "execution_count": 26,
      "metadata": {
        "colab": {
          "base_uri": "https://localhost:8080/"
        },
        "id": "f3lGenT5tId9",
        "outputId": "184b3988-8f2a-4f01-a7d7-9a619f1f3f1d"
      },
      "outputs": [
        {
          "output_type": "execute_result",
          "data": {
            "text/plain": [
              "ID_IMF                  float64\n",
              "ID_plasma               float64\n",
              "Bmag                    float64\n",
              "dev_Bmag                float64\n",
              "Bx                      float64\n",
              "By_gse                  float64\n",
              "Bz_gse                  float64\n",
              "By_gsm                  float64\n",
              "Bz_gsm                  float64\n",
              "dev_Bx                  float64\n",
              "dev_By                  float64\n",
              "dev_Bz                  float64\n",
              "P_density               float64\n",
              "dev_P_density           float64\n",
              "AP                      float64\n",
              "dev_AP                  float64\n",
              "E_field                 float64\n",
              "plasma_T                float64\n",
              "dev_plasma_T            float64\n",
              "plasma_V                float64\n",
              "Dst                     float64\n",
              "Datetime         datetime64[ns]\n",
              "dtype: object"
            ]
          },
          "metadata": {},
          "execution_count": 26
        }
      ],
      "source": [
        "hd.dtypes"
      ]
    },
    {
      "cell_type": "code",
      "execution_count": 27,
      "metadata": {
        "colab": {
          "base_uri": "https://localhost:8080/"
        },
        "id": "2s-_PYArsgz4",
        "outputId": "c6b7265c-102f-4f66-8c64-8274de9dc7cc"
      },
      "outputs": [
        {
          "output_type": "execute_result",
          "data": {
            "text/plain": [
              "Index(['Unnamed: 0', 'Min. Dst (nT)', 'start', 'end', 'storm'], dtype='object')"
            ]
          },
          "metadata": {},
          "execution_count": 27
        }
      ],
      "source": [
        "historical_storms.columns"
      ]
    },
    {
      "cell_type": "code",
      "execution_count": 28,
      "metadata": {
        "colab": {
          "base_uri": "https://localhost:8080/"
        },
        "id": "oq6T4hJDsm3Q",
        "outputId": "fd35f3b5-73a0-45fb-c607-1547e16a6849"
      },
      "outputs": [
        {
          "output_type": "execute_result",
          "data": {
            "text/plain": [
              "Unnamed: 0        int64\n",
              "Min. Dst (nT)     int64\n",
              "start            object\n",
              "end              object\n",
              "storm             int64\n",
              "dtype: object"
            ]
          },
          "metadata": {},
          "execution_count": 28
        }
      ],
      "source": [
        "historical_storms.dtypes"
      ]
    },
    {
      "cell_type": "markdown",
      "metadata": {
        "id": "jyL09t1Ks9jW"
      },
      "source": [
        "- Ordenar las tormentas en caso de que no lo estén\n",
        "- Convertir todas las fechas a datetime de pd."
      ]
    },
    {
      "cell_type": "code",
      "execution_count": 29,
      "metadata": {
        "id": "KKh0YUUIq6xc"
      },
      "outputs": [],
      "source": [
        "# Ordenar los dataframes por fecha\n",
        "historical_storms = historical_storms.sort_values(by='start')\n",
        "\n",
        "# convertir las columnas de tiempo a datetime64\n",
        "hd['Datetime']=pd.to_datetime(hd['Datetime'])\n",
        "historical_storms['start']=pd.to_datetime(historical_storms['start'])\n",
        "historical_storms['end']=pd.to_datetime(historical_storms['end'])\n",
        "\n",
        "# Cuando se utilizan los datos a 5 minutos, se unen a 5min\n",
        "#data = pd.merge(md, hd[[\"Datetime\", \"Dst\"]], on='Datetime', how='left')"
      ]
    },
    {
      "cell_type": "markdown",
      "metadata": {
        "id": "VzCZp1Ndpt_F"
      },
      "source": [
        "## 1.2 Exploración inicial de los datos"
      ]
    },
    {
      "cell_type": "markdown",
      "metadata": {
        "id": "Sngrxbi1uXRA"
      },
      "source": [
        "- head del df"
      ]
    },
    {
      "cell_type": "code",
      "execution_count": 30,
      "metadata": {
        "id": "lavp1YMbuOQZ"
      },
      "outputs": [],
      "source": [
        "# hd.head()"
      ]
    },
    {
      "cell_type": "markdown",
      "metadata": {
        "id": "IVAqYfC9uU3P"
      },
      "source": [
        "- descripción estadística de los datos"
      ]
    },
    {
      "cell_type": "code",
      "execution_count": 31,
      "metadata": {
        "id": "t0-OstdCuSlD"
      },
      "outputs": [],
      "source": [
        "# hd.describe()"
      ]
    },
    {
      "cell_type": "markdown",
      "metadata": {
        "id": "v9Ry8TktulyE"
      },
      "source": [
        "- ver los valores nulos"
      ]
    },
    {
      "cell_type": "code",
      "execution_count": 32,
      "metadata": {
        "id": "xnw_H2T-ulg5"
      },
      "outputs": [],
      "source": [
        "# hd.isnull().sum()"
      ]
    },
    {
      "cell_type": "code",
      "execution_count": 33,
      "metadata": {
        "id": "d-LN6q6fuixi"
      },
      "outputs": [],
      "source": [
        "# hd.isnull().sum() / len(hd) * 100"
      ]
    },
    {
      "cell_type": "markdown",
      "metadata": {
        "id": "Jx6zks84uzv8"
      },
      "source": [
        "- Histograma para variables numéricas (todas, en este caso, pero hemos quitado datetime porque no es muy util al ser una serie temporal)."
      ]
    },
    {
      "cell_type": "code",
      "execution_count": 34,
      "metadata": {
        "id": "ke7ogtCzu0KB"
      },
      "outputs": [],
      "source": [
        "# exploracion_histogramas(hd)"
      ]
    },
    {
      "cell_type": "markdown",
      "metadata": {
        "id": "gkDpVZ15xPMM"
      },
      "source": [
        "- Visualizaciónd e historical_storms"
      ]
    },
    {
      "cell_type": "code",
      "execution_count": 35,
      "metadata": {
        "id": "Vr2COnTg0D6S"
      },
      "outputs": [],
      "source": [
        "# storms_data = historical_storms.copy()"
      ]
    },
    {
      "cell_type": "code",
      "execution_count": 36,
      "metadata": {
        "id": "4ivSRmTdz-Kf"
      },
      "outputs": [],
      "source": [
        "# # Convertir las columnas de fecha y hora a datetime\n",
        "# storms_data['start'] = pd.to_datetime(storms_data['start'])\n",
        "# storms_data['end'] = pd.to_datetime(storms_data['end'])\n",
        "# # Calcular la duración de cada tormenta en horas\n",
        "# storms_data['duration_hours'] = (storms_data['end'] - storms_data['start']).dt.total_seconds() / 3600\n",
        "\n",
        "# # Gráfico de la distribución de las intensidades mínimas de las tormentas\n",
        "# plt.figure(figsize=(8, 4))\n",
        "# sns.histplot(storms_data['Min. Dst (nT)'], bins=30, kde=True, color='blue')\n",
        "# plt.title('Distribución de Intensidades Mínimas de Tormentas Geomagnéticas')\n",
        "# plt.xlabel('Min. Dst (nT)')\n",
        "# plt.ylabel('Frecuencia')\n",
        "# plt.grid(True)\n",
        "# plt.show()"
      ]
    },
    {
      "cell_type": "markdown",
      "metadata": {
        "id": "tnkxO8Zk0pnw"
      },
      "source": [
        "Gráfico de dispersión entre la duración y la intensidad mínima"
      ]
    },
    {
      "cell_type": "code",
      "execution_count": 37,
      "metadata": {
        "id": "hCSpRC9N0i8E"
      },
      "outputs": [],
      "source": [
        "# plt.figure(figsize=(12, 6))\n",
        "# sns.scatterplot(x='duration_hours', y='Min. Dst (nT)', data=storms_data)\n",
        "# plt.title('Correlación entre Duración e Intensidad Mínima de Tormentas')\n",
        "# plt.xlabel('Duración (Horas)')\n",
        "# plt.ylabel('Min. Dst (nT)')\n",
        "# plt.grid(True)\n",
        "# plt.show()"
      ]
    },
    {
      "cell_type": "markdown",
      "metadata": {
        "id": "-2tC7isT0yJI"
      },
      "source": [
        "- Ver el timeline de las tormentas"
      ]
    },
    {
      "cell_type": "code",
      "execution_count": 38,
      "metadata": {
        "id": "KfIV8r9Q00gx"
      },
      "outputs": [],
      "source": [
        "# import plotly.graph_objects as go\n",
        "\n",
        "# # Crear la figura\n",
        "# fig = go.Figure()\n",
        "\n",
        "# # Añadir cada tormenta como un segmento de línea en el gráfico\n",
        "# for i, row in storms_data.iterrows():\n",
        "#     fig.add_trace(go.Scatter(\n",
        "#         x=[row['start'], row['end']],\n",
        "#         y=[i, i],\n",
        "#         mode='lines+markers',\n",
        "#         name=f\"Tormenta {row['storm']}\"\n",
        "#     ))\n",
        "\n",
        "# # Ajustar la presentación de la figura\n",
        "# fig.update_layout(\n",
        "#     title=\"Línea de Tiempo de Tormentas Históricas\",\n",
        "#     xaxis_title=\"Fecha\",\n",
        "#     yaxis_title=\"Tormenta\",\n",
        "#     yaxis=dict(\n",
        "#         tickmode='array',\n",
        "#         tickvals=list(range(len(storms_data)))\n",
        "#     ),\n",
        "#     showlegend=False,\n",
        "#     xaxis=dict(\n",
        "#         rangeslider=dict(\n",
        "#             visible=True\n",
        "#         ),\n",
        "#         type=\"date\"\n",
        "#     )\n",
        "# )\n",
        "\n",
        "# # Mostrar la figura\n",
        "# fig.show()"
      ]
    },
    {
      "cell_type": "markdown",
      "metadata": {
        "id": "-ABxa-pMvUiR"
      },
      "source": [
        "Mapa de calor de la matriz de correlación"
      ]
    },
    {
      "cell_type": "code",
      "execution_count": 39,
      "metadata": {
        "id": "ttbLXb7UvWm0"
      },
      "outputs": [],
      "source": [
        "# plt.figure(figsize=(15, 8))\n",
        "# sns.heatmap(hd.corr(), annot=True, fmt=\".2f\", cmap='coolwarm')\n",
        "# plt.show()"
      ]
    },
    {
      "cell_type": "markdown",
      "metadata": {
        "id": "1-5Cz91Ap3RH"
      },
      "source": [
        "## 1.3 Limpieza y procesamiento de los datos"
      ]
    },
    {
      "cell_type": "markdown",
      "metadata": {
        "id": "D4RKW9php63d"
      },
      "source": [
        "### 1.3.1 Tratamiento de valores faltantes"
      ]
    },
    {
      "cell_type": "code",
      "execution_count": 40,
      "metadata": {
        "colab": {
          "base_uri": "https://localhost:8080/"
        },
        "id": "t7usCL6U8a6U",
        "outputId": "00bb85a8-044c-4ef6-a571-c415951cabaf"
      },
      "outputs": [
        {
          "output_type": "execute_result",
          "data": {
            "text/plain": [
              "42472"
            ]
          },
          "metadata": {},
          "execution_count": 40
        }
      ],
      "source": [
        "sum(hd.isnull().sum())"
      ]
    },
    {
      "cell_type": "code",
      "execution_count": 41,
      "metadata": {
        "id": "FBM6gfRL85Tb"
      },
      "outputs": [],
      "source": [
        "hd = imputar_nan(hd)"
      ]
    },
    {
      "cell_type": "code",
      "execution_count": 42,
      "metadata": {
        "colab": {
          "base_uri": "https://localhost:8080/"
        },
        "id": "AwfFb2yZ8-dU",
        "outputId": "cc5433b0-ca82-4ea1-82af-f6dcdc980112"
      },
      "outputs": [
        {
          "output_type": "execute_result",
          "data": {
            "text/plain": [
              "0"
            ]
          },
          "metadata": {},
          "execution_count": 42
        }
      ],
      "source": [
        "sum(hd.isnull().sum())"
      ]
    },
    {
      "cell_type": "markdown",
      "metadata": {
        "id": "yn3SwS3Np93N"
      },
      "source": [
        "### 1.3.2 Normalización de los datos"
      ]
    },
    {
      "cell_type": "code",
      "execution_count": 43,
      "metadata": {
        "id": "tSl0lkmfrHEz"
      },
      "outputs": [],
      "source": [
        "all_storms = filter_storms(hd, historical_storms, temporal_margin)\n",
        "all_storms = combinar_dataframes_solapados(all_storms)"
      ]
    },
    {
      "cell_type": "code",
      "execution_count": 44,
      "metadata": {
        "id": "z9Fj84tVSCwr"
      },
      "outputs": [],
      "source": [
        "historical_storms_new = get_new_splits_dates(all_storms)"
      ]
    },
    {
      "cell_type": "markdown",
      "metadata": {
        "id": "eouAWEsnQ0vG"
      },
      "source": [
        "Storm index de cada conjunto de datos, test y validación, entrenamiento el resto"
      ]
    },
    {
      "cell_type": "code",
      "execution_count": 45,
      "metadata": {
        "id": "ZgKhNcYdQ0vG"
      },
      "outputs": [],
      "source": [
        "index_test_storms = [2, 12, 23, 32, 8, 40, 42, 3, 31]\n",
        "index_val_storms = [25, 13, 1, 37, 33, 7]"
      ]
    },
    {
      "cell_type": "markdown",
      "metadata": {
        "id": "WPuvnmxLQ0vG"
      },
      "source": [
        "TORMENTAS DE ENTRENAMIENTO"
      ]
    },
    {
      "cell_type": "code",
      "execution_count": 46,
      "metadata": {
        "colab": {
          "base_uri": "https://localhost:8080/",
          "height": 1000
        },
        "id": "BVDU1b4oQ0vG",
        "outputId": "107002b4-8be5-4d7a-e84c-2e36b6a6cf0f"
      },
      "outputs": [
        {
          "output_type": "execute_result",
          "data": {
            "text/plain": [
              "    storm_index          date_start            date_end  min_DST\n",
              "0             1 2001-03-15 13:00:00 2001-03-25 12:00:00   -149.0\n",
              "1             4 2001-08-12 21:00:00 2001-08-22 20:00:00   -105.0\n",
              "2             5 2001-09-26 08:00:00 2001-10-06 07:00:00   -166.0\n",
              "3             6 2001-10-16 21:00:00 2001-11-02 10:00:00   -187.0\n",
              "4             7 2002-03-19 09:00:00 2002-03-29 08:00:00   -100.0\n",
              "5             9 2002-05-06 19:00:00 2002-05-16 18:00:00   -110.0\n",
              "6            10 2002-05-18 17:00:00 2002-05-28 16:00:00   -109.0\n",
              "7            11 2002-07-28 05:00:00 2002-08-07 04:00:00   -102.0\n",
              "8            13 2002-09-26 16:00:00 2002-10-06 15:00:00   -176.0\n",
              "9            14 2002-11-16 10:00:00 2002-11-26 09:00:00   -128.0\n",
              "10           15 2003-05-24 23:00:00 2003-06-03 22:00:00   -144.0\n",
              "11           16 2003-06-13 09:00:00 2003-06-23 08:00:00   -141.0\n",
              "12           17 2003-07-07 05:00:00 2003-07-17 04:00:00   -105.0\n",
              "13           18 2003-08-13 15:00:00 2003-08-23 14:00:00   -148.0\n",
              "14           19 2003-11-15 20:00:00 2003-11-25 19:00:00   -422.0\n",
              "15           20 2004-01-17 13:00:00 2004-01-27 12:00:00   -130.0\n",
              "16           21 2004-02-06 17:00:00 2004-02-16 16:00:00    -93.0\n",
              "17           22 2004-03-30 00:00:00 2004-04-08 23:00:00   -117.0\n",
              "18           24 2004-08-25 22:00:00 2004-09-04 21:00:00   -129.0\n",
              "19           25 2004-11-07 10:00:00 2004-11-17 09:00:00   -374.0\n",
              "20           26 2005-01-17 05:00:00 2005-01-27 04:00:00   -103.0\n",
              "21           27 2005-05-03 18:00:00 2005-05-13 17:00:00   -110.0\n",
              "22           28 2005-05-25 13:00:00 2005-06-04 12:00:00   -113.0\n",
              "23           29 2005-06-08 00:00:00 2005-06-17 23:00:00   -106.0\n",
              "24           30 2005-08-26 19:00:00 2005-09-05 18:00:00   -122.0\n",
              "25           33 2011-09-21 23:00:00 2011-10-01 22:00:00   -118.0\n",
              "26           34 2011-10-20 01:00:00 2011-10-30 00:00:00   -147.0\n",
              "27           35 2012-03-04 08:00:00 2012-03-14 07:00:00   -145.0\n",
              "28           36 2012-04-19 04:00:00 2012-04-29 03:00:00   -120.0\n",
              "29           37 2012-07-10 16:00:00 2012-07-20 15:00:00   -139.0\n",
              "30           38 2012-09-26 04:00:00 2012-10-14 07:00:00   -122.0\n",
              "31           39 2012-11-09 07:00:00 2012-11-19 06:00:00   -108.0\n",
              "32           41 2013-05-27 08:00:00 2013-06-06 07:00:00   -124.0"
            ],
            "text/html": [
              "\n",
              "  <div id=\"df-fef383cd-2367-45a9-893e-4ebf2ec68806\" class=\"colab-df-container\">\n",
              "    <div>\n",
              "<style scoped>\n",
              "    .dataframe tbody tr th:only-of-type {\n",
              "        vertical-align: middle;\n",
              "    }\n",
              "\n",
              "    .dataframe tbody tr th {\n",
              "        vertical-align: top;\n",
              "    }\n",
              "\n",
              "    .dataframe thead th {\n",
              "        text-align: right;\n",
              "    }\n",
              "</style>\n",
              "<table border=\"1\" class=\"dataframe\">\n",
              "  <thead>\n",
              "    <tr style=\"text-align: right;\">\n",
              "      <th></th>\n",
              "      <th>storm_index</th>\n",
              "      <th>date_start</th>\n",
              "      <th>date_end</th>\n",
              "      <th>min_DST</th>\n",
              "    </tr>\n",
              "  </thead>\n",
              "  <tbody>\n",
              "    <tr>\n",
              "      <th>0</th>\n",
              "      <td>1</td>\n",
              "      <td>2001-03-15 13:00:00</td>\n",
              "      <td>2001-03-25 12:00:00</td>\n",
              "      <td>-149.0</td>\n",
              "    </tr>\n",
              "    <tr>\n",
              "      <th>1</th>\n",
              "      <td>4</td>\n",
              "      <td>2001-08-12 21:00:00</td>\n",
              "      <td>2001-08-22 20:00:00</td>\n",
              "      <td>-105.0</td>\n",
              "    </tr>\n",
              "    <tr>\n",
              "      <th>2</th>\n",
              "      <td>5</td>\n",
              "      <td>2001-09-26 08:00:00</td>\n",
              "      <td>2001-10-06 07:00:00</td>\n",
              "      <td>-166.0</td>\n",
              "    </tr>\n",
              "    <tr>\n",
              "      <th>3</th>\n",
              "      <td>6</td>\n",
              "      <td>2001-10-16 21:00:00</td>\n",
              "      <td>2001-11-02 10:00:00</td>\n",
              "      <td>-187.0</td>\n",
              "    </tr>\n",
              "    <tr>\n",
              "      <th>4</th>\n",
              "      <td>7</td>\n",
              "      <td>2002-03-19 09:00:00</td>\n",
              "      <td>2002-03-29 08:00:00</td>\n",
              "      <td>-100.0</td>\n",
              "    </tr>\n",
              "    <tr>\n",
              "      <th>5</th>\n",
              "      <td>9</td>\n",
              "      <td>2002-05-06 19:00:00</td>\n",
              "      <td>2002-05-16 18:00:00</td>\n",
              "      <td>-110.0</td>\n",
              "    </tr>\n",
              "    <tr>\n",
              "      <th>6</th>\n",
              "      <td>10</td>\n",
              "      <td>2002-05-18 17:00:00</td>\n",
              "      <td>2002-05-28 16:00:00</td>\n",
              "      <td>-109.0</td>\n",
              "    </tr>\n",
              "    <tr>\n",
              "      <th>7</th>\n",
              "      <td>11</td>\n",
              "      <td>2002-07-28 05:00:00</td>\n",
              "      <td>2002-08-07 04:00:00</td>\n",
              "      <td>-102.0</td>\n",
              "    </tr>\n",
              "    <tr>\n",
              "      <th>8</th>\n",
              "      <td>13</td>\n",
              "      <td>2002-09-26 16:00:00</td>\n",
              "      <td>2002-10-06 15:00:00</td>\n",
              "      <td>-176.0</td>\n",
              "    </tr>\n",
              "    <tr>\n",
              "      <th>9</th>\n",
              "      <td>14</td>\n",
              "      <td>2002-11-16 10:00:00</td>\n",
              "      <td>2002-11-26 09:00:00</td>\n",
              "      <td>-128.0</td>\n",
              "    </tr>\n",
              "    <tr>\n",
              "      <th>10</th>\n",
              "      <td>15</td>\n",
              "      <td>2003-05-24 23:00:00</td>\n",
              "      <td>2003-06-03 22:00:00</td>\n",
              "      <td>-144.0</td>\n",
              "    </tr>\n",
              "    <tr>\n",
              "      <th>11</th>\n",
              "      <td>16</td>\n",
              "      <td>2003-06-13 09:00:00</td>\n",
              "      <td>2003-06-23 08:00:00</td>\n",
              "      <td>-141.0</td>\n",
              "    </tr>\n",
              "    <tr>\n",
              "      <th>12</th>\n",
              "      <td>17</td>\n",
              "      <td>2003-07-07 05:00:00</td>\n",
              "      <td>2003-07-17 04:00:00</td>\n",
              "      <td>-105.0</td>\n",
              "    </tr>\n",
              "    <tr>\n",
              "      <th>13</th>\n",
              "      <td>18</td>\n",
              "      <td>2003-08-13 15:00:00</td>\n",
              "      <td>2003-08-23 14:00:00</td>\n",
              "      <td>-148.0</td>\n",
              "    </tr>\n",
              "    <tr>\n",
              "      <th>14</th>\n",
              "      <td>19</td>\n",
              "      <td>2003-11-15 20:00:00</td>\n",
              "      <td>2003-11-25 19:00:00</td>\n",
              "      <td>-422.0</td>\n",
              "    </tr>\n",
              "    <tr>\n",
              "      <th>15</th>\n",
              "      <td>20</td>\n",
              "      <td>2004-01-17 13:00:00</td>\n",
              "      <td>2004-01-27 12:00:00</td>\n",
              "      <td>-130.0</td>\n",
              "    </tr>\n",
              "    <tr>\n",
              "      <th>16</th>\n",
              "      <td>21</td>\n",
              "      <td>2004-02-06 17:00:00</td>\n",
              "      <td>2004-02-16 16:00:00</td>\n",
              "      <td>-93.0</td>\n",
              "    </tr>\n",
              "    <tr>\n",
              "      <th>17</th>\n",
              "      <td>22</td>\n",
              "      <td>2004-03-30 00:00:00</td>\n",
              "      <td>2004-04-08 23:00:00</td>\n",
              "      <td>-117.0</td>\n",
              "    </tr>\n",
              "    <tr>\n",
              "      <th>18</th>\n",
              "      <td>24</td>\n",
              "      <td>2004-08-25 22:00:00</td>\n",
              "      <td>2004-09-04 21:00:00</td>\n",
              "      <td>-129.0</td>\n",
              "    </tr>\n",
              "    <tr>\n",
              "      <th>19</th>\n",
              "      <td>25</td>\n",
              "      <td>2004-11-07 10:00:00</td>\n",
              "      <td>2004-11-17 09:00:00</td>\n",
              "      <td>-374.0</td>\n",
              "    </tr>\n",
              "    <tr>\n",
              "      <th>20</th>\n",
              "      <td>26</td>\n",
              "      <td>2005-01-17 05:00:00</td>\n",
              "      <td>2005-01-27 04:00:00</td>\n",
              "      <td>-103.0</td>\n",
              "    </tr>\n",
              "    <tr>\n",
              "      <th>21</th>\n",
              "      <td>27</td>\n",
              "      <td>2005-05-03 18:00:00</td>\n",
              "      <td>2005-05-13 17:00:00</td>\n",
              "      <td>-110.0</td>\n",
              "    </tr>\n",
              "    <tr>\n",
              "      <th>22</th>\n",
              "      <td>28</td>\n",
              "      <td>2005-05-25 13:00:00</td>\n",
              "      <td>2005-06-04 12:00:00</td>\n",
              "      <td>-113.0</td>\n",
              "    </tr>\n",
              "    <tr>\n",
              "      <th>23</th>\n",
              "      <td>29</td>\n",
              "      <td>2005-06-08 00:00:00</td>\n",
              "      <td>2005-06-17 23:00:00</td>\n",
              "      <td>-106.0</td>\n",
              "    </tr>\n",
              "    <tr>\n",
              "      <th>24</th>\n",
              "      <td>30</td>\n",
              "      <td>2005-08-26 19:00:00</td>\n",
              "      <td>2005-09-05 18:00:00</td>\n",
              "      <td>-122.0</td>\n",
              "    </tr>\n",
              "    <tr>\n",
              "      <th>25</th>\n",
              "      <td>33</td>\n",
              "      <td>2011-09-21 23:00:00</td>\n",
              "      <td>2011-10-01 22:00:00</td>\n",
              "      <td>-118.0</td>\n",
              "    </tr>\n",
              "    <tr>\n",
              "      <th>26</th>\n",
              "      <td>34</td>\n",
              "      <td>2011-10-20 01:00:00</td>\n",
              "      <td>2011-10-30 00:00:00</td>\n",
              "      <td>-147.0</td>\n",
              "    </tr>\n",
              "    <tr>\n",
              "      <th>27</th>\n",
              "      <td>35</td>\n",
              "      <td>2012-03-04 08:00:00</td>\n",
              "      <td>2012-03-14 07:00:00</td>\n",
              "      <td>-145.0</td>\n",
              "    </tr>\n",
              "    <tr>\n",
              "      <th>28</th>\n",
              "      <td>36</td>\n",
              "      <td>2012-04-19 04:00:00</td>\n",
              "      <td>2012-04-29 03:00:00</td>\n",
              "      <td>-120.0</td>\n",
              "    </tr>\n",
              "    <tr>\n",
              "      <th>29</th>\n",
              "      <td>37</td>\n",
              "      <td>2012-07-10 16:00:00</td>\n",
              "      <td>2012-07-20 15:00:00</td>\n",
              "      <td>-139.0</td>\n",
              "    </tr>\n",
              "    <tr>\n",
              "      <th>30</th>\n",
              "      <td>38</td>\n",
              "      <td>2012-09-26 04:00:00</td>\n",
              "      <td>2012-10-14 07:00:00</td>\n",
              "      <td>-122.0</td>\n",
              "    </tr>\n",
              "    <tr>\n",
              "      <th>31</th>\n",
              "      <td>39</td>\n",
              "      <td>2012-11-09 07:00:00</td>\n",
              "      <td>2012-11-19 06:00:00</td>\n",
              "      <td>-108.0</td>\n",
              "    </tr>\n",
              "    <tr>\n",
              "      <th>32</th>\n",
              "      <td>41</td>\n",
              "      <td>2013-05-27 08:00:00</td>\n",
              "      <td>2013-06-06 07:00:00</td>\n",
              "      <td>-124.0</td>\n",
              "    </tr>\n",
              "  </tbody>\n",
              "</table>\n",
              "</div>\n",
              "    <div class=\"colab-df-buttons\">\n",
              "\n",
              "  <div class=\"colab-df-container\">\n",
              "    <button class=\"colab-df-convert\" onclick=\"convertToInteractive('df-fef383cd-2367-45a9-893e-4ebf2ec68806')\"\n",
              "            title=\"Convert this dataframe to an interactive table.\"\n",
              "            style=\"display:none;\">\n",
              "\n",
              "  <svg xmlns=\"http://www.w3.org/2000/svg\" height=\"24px\" viewBox=\"0 -960 960 960\">\n",
              "    <path d=\"M120-120v-720h720v720H120Zm60-500h600v-160H180v160Zm220 220h160v-160H400v160Zm0 220h160v-160H400v160ZM180-400h160v-160H180v160Zm440 0h160v-160H620v160ZM180-180h160v-160H180v160Zm440 0h160v-160H620v160Z\"/>\n",
              "  </svg>\n",
              "    </button>\n",
              "\n",
              "  <style>\n",
              "    .colab-df-container {\n",
              "      display:flex;\n",
              "      gap: 12px;\n",
              "    }\n",
              "\n",
              "    .colab-df-convert {\n",
              "      background-color: #E8F0FE;\n",
              "      border: none;\n",
              "      border-radius: 50%;\n",
              "      cursor: pointer;\n",
              "      display: none;\n",
              "      fill: #1967D2;\n",
              "      height: 32px;\n",
              "      padding: 0 0 0 0;\n",
              "      width: 32px;\n",
              "    }\n",
              "\n",
              "    .colab-df-convert:hover {\n",
              "      background-color: #E2EBFA;\n",
              "      box-shadow: 0px 1px 2px rgba(60, 64, 67, 0.3), 0px 1px 3px 1px rgba(60, 64, 67, 0.15);\n",
              "      fill: #174EA6;\n",
              "    }\n",
              "\n",
              "    .colab-df-buttons div {\n",
              "      margin-bottom: 4px;\n",
              "    }\n",
              "\n",
              "    [theme=dark] .colab-df-convert {\n",
              "      background-color: #3B4455;\n",
              "      fill: #D2E3FC;\n",
              "    }\n",
              "\n",
              "    [theme=dark] .colab-df-convert:hover {\n",
              "      background-color: #434B5C;\n",
              "      box-shadow: 0px 1px 3px 1px rgba(0, 0, 0, 0.15);\n",
              "      filter: drop-shadow(0px 1px 2px rgba(0, 0, 0, 0.3));\n",
              "      fill: #FFFFFF;\n",
              "    }\n",
              "  </style>\n",
              "\n",
              "    <script>\n",
              "      const buttonEl =\n",
              "        document.querySelector('#df-fef383cd-2367-45a9-893e-4ebf2ec68806 button.colab-df-convert');\n",
              "      buttonEl.style.display =\n",
              "        google.colab.kernel.accessAllowed ? 'block' : 'none';\n",
              "\n",
              "      async function convertToInteractive(key) {\n",
              "        const element = document.querySelector('#df-fef383cd-2367-45a9-893e-4ebf2ec68806');\n",
              "        const dataTable =\n",
              "          await google.colab.kernel.invokeFunction('convertToInteractive',\n",
              "                                                    [key], {});\n",
              "        if (!dataTable) return;\n",
              "\n",
              "        const docLinkHtml = 'Like what you see? Visit the ' +\n",
              "          '<a target=\"_blank\" href=https://colab.research.google.com/notebooks/data_table.ipynb>data table notebook</a>'\n",
              "          + ' to learn more about interactive tables.';\n",
              "        element.innerHTML = '';\n",
              "        dataTable['output_type'] = 'display_data';\n",
              "        await google.colab.output.renderOutput(dataTable, element);\n",
              "        const docLink = document.createElement('div');\n",
              "        docLink.innerHTML = docLinkHtml;\n",
              "        element.appendChild(docLink);\n",
              "      }\n",
              "    </script>\n",
              "  </div>\n",
              "\n",
              "\n",
              "<div id=\"df-413449f2-1c3f-490e-94f0-4017623c7872\">\n",
              "  <button class=\"colab-df-quickchart\" onclick=\"quickchart('df-413449f2-1c3f-490e-94f0-4017623c7872')\"\n",
              "            title=\"Suggest charts\"\n",
              "            style=\"display:none;\">\n",
              "\n",
              "<svg xmlns=\"http://www.w3.org/2000/svg\" height=\"24px\"viewBox=\"0 0 24 24\"\n",
              "     width=\"24px\">\n",
              "    <g>\n",
              "        <path d=\"M19 3H5c-1.1 0-2 .9-2 2v14c0 1.1.9 2 2 2h14c1.1 0 2-.9 2-2V5c0-1.1-.9-2-2-2zM9 17H7v-7h2v7zm4 0h-2V7h2v10zm4 0h-2v-4h2v4z\"/>\n",
              "    </g>\n",
              "</svg>\n",
              "  </button>\n",
              "\n",
              "<style>\n",
              "  .colab-df-quickchart {\n",
              "      --bg-color: #E8F0FE;\n",
              "      --fill-color: #1967D2;\n",
              "      --hover-bg-color: #E2EBFA;\n",
              "      --hover-fill-color: #174EA6;\n",
              "      --disabled-fill-color: #AAA;\n",
              "      --disabled-bg-color: #DDD;\n",
              "  }\n",
              "\n",
              "  [theme=dark] .colab-df-quickchart {\n",
              "      --bg-color: #3B4455;\n",
              "      --fill-color: #D2E3FC;\n",
              "      --hover-bg-color: #434B5C;\n",
              "      --hover-fill-color: #FFFFFF;\n",
              "      --disabled-bg-color: #3B4455;\n",
              "      --disabled-fill-color: #666;\n",
              "  }\n",
              "\n",
              "  .colab-df-quickchart {\n",
              "    background-color: var(--bg-color);\n",
              "    border: none;\n",
              "    border-radius: 50%;\n",
              "    cursor: pointer;\n",
              "    display: none;\n",
              "    fill: var(--fill-color);\n",
              "    height: 32px;\n",
              "    padding: 0;\n",
              "    width: 32px;\n",
              "  }\n",
              "\n",
              "  .colab-df-quickchart:hover {\n",
              "    background-color: var(--hover-bg-color);\n",
              "    box-shadow: 0 1px 2px rgba(60, 64, 67, 0.3), 0 1px 3px 1px rgba(60, 64, 67, 0.15);\n",
              "    fill: var(--button-hover-fill-color);\n",
              "  }\n",
              "\n",
              "  .colab-df-quickchart-complete:disabled,\n",
              "  .colab-df-quickchart-complete:disabled:hover {\n",
              "    background-color: var(--disabled-bg-color);\n",
              "    fill: var(--disabled-fill-color);\n",
              "    box-shadow: none;\n",
              "  }\n",
              "\n",
              "  .colab-df-spinner {\n",
              "    border: 2px solid var(--fill-color);\n",
              "    border-color: transparent;\n",
              "    border-bottom-color: var(--fill-color);\n",
              "    animation:\n",
              "      spin 1s steps(1) infinite;\n",
              "  }\n",
              "\n",
              "  @keyframes spin {\n",
              "    0% {\n",
              "      border-color: transparent;\n",
              "      border-bottom-color: var(--fill-color);\n",
              "      border-left-color: var(--fill-color);\n",
              "    }\n",
              "    20% {\n",
              "      border-color: transparent;\n",
              "      border-left-color: var(--fill-color);\n",
              "      border-top-color: var(--fill-color);\n",
              "    }\n",
              "    30% {\n",
              "      border-color: transparent;\n",
              "      border-left-color: var(--fill-color);\n",
              "      border-top-color: var(--fill-color);\n",
              "      border-right-color: var(--fill-color);\n",
              "    }\n",
              "    40% {\n",
              "      border-color: transparent;\n",
              "      border-right-color: var(--fill-color);\n",
              "      border-top-color: var(--fill-color);\n",
              "    }\n",
              "    60% {\n",
              "      border-color: transparent;\n",
              "      border-right-color: var(--fill-color);\n",
              "    }\n",
              "    80% {\n",
              "      border-color: transparent;\n",
              "      border-right-color: var(--fill-color);\n",
              "      border-bottom-color: var(--fill-color);\n",
              "    }\n",
              "    90% {\n",
              "      border-color: transparent;\n",
              "      border-bottom-color: var(--fill-color);\n",
              "    }\n",
              "  }\n",
              "</style>\n",
              "\n",
              "  <script>\n",
              "    async function quickchart(key) {\n",
              "      const quickchartButtonEl =\n",
              "        document.querySelector('#' + key + ' button');\n",
              "      quickchartButtonEl.disabled = true;  // To prevent multiple clicks.\n",
              "      quickchartButtonEl.classList.add('colab-df-spinner');\n",
              "      try {\n",
              "        const charts = await google.colab.kernel.invokeFunction(\n",
              "            'suggestCharts', [key], {});\n",
              "      } catch (error) {\n",
              "        console.error('Error during call to suggestCharts:', error);\n",
              "      }\n",
              "      quickchartButtonEl.classList.remove('colab-df-spinner');\n",
              "      quickchartButtonEl.classList.add('colab-df-quickchart-complete');\n",
              "    }\n",
              "    (() => {\n",
              "      let quickchartButtonEl =\n",
              "        document.querySelector('#df-413449f2-1c3f-490e-94f0-4017623c7872 button');\n",
              "      quickchartButtonEl.style.display =\n",
              "        google.colab.kernel.accessAllowed ? 'block' : 'none';\n",
              "    })();\n",
              "  </script>\n",
              "</div>\n",
              "\n",
              "    </div>\n",
              "  </div>\n"
            ],
            "application/vnd.google.colaboratory.intrinsic+json": {
              "type": "dataframe",
              "summary": "{\n  \"name\": \"historical_storms_new[~historical_storms_new[\\\"storm_index\\\"]\",\n  \"rows\": 33,\n  \"fields\": [\n    {\n      \"column\": \"storm_index\",\n      \"properties\": {\n        \"dtype\": \"number\",\n        \"std\": 11,\n        \"min\": 1,\n        \"max\": 41,\n        \"num_unique_values\": 33,\n        \"samples\": [\n          39,\n          20,\n          34\n        ],\n        \"semantic_type\": \"\",\n        \"description\": \"\"\n      }\n    },\n    {\n      \"column\": \"date_start\",\n      \"properties\": {\n        \"dtype\": \"date\",\n        \"min\": \"2001-03-15 13:00:00\",\n        \"max\": \"2013-05-27 08:00:00\",\n        \"num_unique_values\": 33,\n        \"samples\": [\n          \"2012-11-09 07:00:00\",\n          \"2004-01-17 13:00:00\",\n          \"2011-10-20 01:00:00\"\n        ],\n        \"semantic_type\": \"\",\n        \"description\": \"\"\n      }\n    },\n    {\n      \"column\": \"date_end\",\n      \"properties\": {\n        \"dtype\": \"date\",\n        \"min\": \"2001-03-25 12:00:00\",\n        \"max\": \"2013-06-06 07:00:00\",\n        \"num_unique_values\": 33,\n        \"samples\": [\n          \"2012-11-19 06:00:00\",\n          \"2004-01-27 12:00:00\",\n          \"2011-10-30 00:00:00\"\n        ],\n        \"semantic_type\": \"\",\n        \"description\": \"\"\n      }\n    },\n    {\n      \"column\": \"min_DST\",\n      \"properties\": {\n        \"dtype\": \"number\",\n        \"std\": 69.79109791717602,\n        \"min\": -422.0,\n        \"max\": -93.0,\n        \"num_unique_values\": 30,\n        \"samples\": [\n          -139.0,\n          -93.0,\n          -118.0\n        ],\n        \"semantic_type\": \"\",\n        \"description\": \"\"\n      }\n    }\n  ]\n}"
            }
          },
          "metadata": {},
          "execution_count": 46
        }
      ],
      "source": [
        "train_storms = [df for idx, df in enumerate(all_storms) if idx not in [x-1 for x in index_test_storms]]\n",
        "historical_storms_new[~historical_storms_new[\"storm_index\"].isin(index_test_storms)].reset_index(drop=True)"
      ]
    },
    {
      "cell_type": "markdown",
      "metadata": {
        "id": "ZGomN--4Q0vH"
      },
      "source": [
        "TORMENTAS DE TEST"
      ]
    },
    {
      "cell_type": "code",
      "execution_count": 47,
      "metadata": {
        "colab": {
          "base_uri": "https://localhost:8080/",
          "height": 331
        },
        "id": "PFCYlsoCQ0vH",
        "outputId": "14d8b538-794d-425a-e53a-bd3025baff0f"
      },
      "outputs": [
        {
          "output_type": "execute_result",
          "data": {
            "text/plain": [
              "   storm_index          date_start            date_end  min_DST\n",
              "0            2 2001-03-26 08:00:00 2001-04-05 07:00:00   -387.0\n",
              "1            3 2001-04-13 06:00:00 2001-04-27 14:00:00   -114.0\n",
              "2            8 2002-04-13 07:00:00 2002-04-25 07:00:00   -149.0\n",
              "3           12 2002-08-30 05:00:00 2002-09-12 23:00:00   -181.0\n",
              "4           23 2004-07-18 02:00:00 2004-08-01 12:00:00   -170.0\n",
              "5           31 2006-04-09 09:00:00 2006-04-19 08:00:00    -98.0\n",
              "6           32 2006-12-10 07:00:00 2006-12-20 06:00:00   -162.0\n",
              "7           40 2013-03-12 20:00:00 2013-03-22 19:00:00   -132.0\n",
              "8           42 2014-02-14 08:00:00 2014-02-24 07:00:00   -119.0"
            ],
            "text/html": [
              "\n",
              "  <div id=\"df-281cfac4-9d47-40b1-9e2f-91f36e5442ec\" class=\"colab-df-container\">\n",
              "    <div>\n",
              "<style scoped>\n",
              "    .dataframe tbody tr th:only-of-type {\n",
              "        vertical-align: middle;\n",
              "    }\n",
              "\n",
              "    .dataframe tbody tr th {\n",
              "        vertical-align: top;\n",
              "    }\n",
              "\n",
              "    .dataframe thead th {\n",
              "        text-align: right;\n",
              "    }\n",
              "</style>\n",
              "<table border=\"1\" class=\"dataframe\">\n",
              "  <thead>\n",
              "    <tr style=\"text-align: right;\">\n",
              "      <th></th>\n",
              "      <th>storm_index</th>\n",
              "      <th>date_start</th>\n",
              "      <th>date_end</th>\n",
              "      <th>min_DST</th>\n",
              "    </tr>\n",
              "  </thead>\n",
              "  <tbody>\n",
              "    <tr>\n",
              "      <th>0</th>\n",
              "      <td>2</td>\n",
              "      <td>2001-03-26 08:00:00</td>\n",
              "      <td>2001-04-05 07:00:00</td>\n",
              "      <td>-387.0</td>\n",
              "    </tr>\n",
              "    <tr>\n",
              "      <th>1</th>\n",
              "      <td>3</td>\n",
              "      <td>2001-04-13 06:00:00</td>\n",
              "      <td>2001-04-27 14:00:00</td>\n",
              "      <td>-114.0</td>\n",
              "    </tr>\n",
              "    <tr>\n",
              "      <th>2</th>\n",
              "      <td>8</td>\n",
              "      <td>2002-04-13 07:00:00</td>\n",
              "      <td>2002-04-25 07:00:00</td>\n",
              "      <td>-149.0</td>\n",
              "    </tr>\n",
              "    <tr>\n",
              "      <th>3</th>\n",
              "      <td>12</td>\n",
              "      <td>2002-08-30 05:00:00</td>\n",
              "      <td>2002-09-12 23:00:00</td>\n",
              "      <td>-181.0</td>\n",
              "    </tr>\n",
              "    <tr>\n",
              "      <th>4</th>\n",
              "      <td>23</td>\n",
              "      <td>2004-07-18 02:00:00</td>\n",
              "      <td>2004-08-01 12:00:00</td>\n",
              "      <td>-170.0</td>\n",
              "    </tr>\n",
              "    <tr>\n",
              "      <th>5</th>\n",
              "      <td>31</td>\n",
              "      <td>2006-04-09 09:00:00</td>\n",
              "      <td>2006-04-19 08:00:00</td>\n",
              "      <td>-98.0</td>\n",
              "    </tr>\n",
              "    <tr>\n",
              "      <th>6</th>\n",
              "      <td>32</td>\n",
              "      <td>2006-12-10 07:00:00</td>\n",
              "      <td>2006-12-20 06:00:00</td>\n",
              "      <td>-162.0</td>\n",
              "    </tr>\n",
              "    <tr>\n",
              "      <th>7</th>\n",
              "      <td>40</td>\n",
              "      <td>2013-03-12 20:00:00</td>\n",
              "      <td>2013-03-22 19:00:00</td>\n",
              "      <td>-132.0</td>\n",
              "    </tr>\n",
              "    <tr>\n",
              "      <th>8</th>\n",
              "      <td>42</td>\n",
              "      <td>2014-02-14 08:00:00</td>\n",
              "      <td>2014-02-24 07:00:00</td>\n",
              "      <td>-119.0</td>\n",
              "    </tr>\n",
              "  </tbody>\n",
              "</table>\n",
              "</div>\n",
              "    <div class=\"colab-df-buttons\">\n",
              "\n",
              "  <div class=\"colab-df-container\">\n",
              "    <button class=\"colab-df-convert\" onclick=\"convertToInteractive('df-281cfac4-9d47-40b1-9e2f-91f36e5442ec')\"\n",
              "            title=\"Convert this dataframe to an interactive table.\"\n",
              "            style=\"display:none;\">\n",
              "\n",
              "  <svg xmlns=\"http://www.w3.org/2000/svg\" height=\"24px\" viewBox=\"0 -960 960 960\">\n",
              "    <path d=\"M120-120v-720h720v720H120Zm60-500h600v-160H180v160Zm220 220h160v-160H400v160Zm0 220h160v-160H400v160ZM180-400h160v-160H180v160Zm440 0h160v-160H620v160ZM180-180h160v-160H180v160Zm440 0h160v-160H620v160Z\"/>\n",
              "  </svg>\n",
              "    </button>\n",
              "\n",
              "  <style>\n",
              "    .colab-df-container {\n",
              "      display:flex;\n",
              "      gap: 12px;\n",
              "    }\n",
              "\n",
              "    .colab-df-convert {\n",
              "      background-color: #E8F0FE;\n",
              "      border: none;\n",
              "      border-radius: 50%;\n",
              "      cursor: pointer;\n",
              "      display: none;\n",
              "      fill: #1967D2;\n",
              "      height: 32px;\n",
              "      padding: 0 0 0 0;\n",
              "      width: 32px;\n",
              "    }\n",
              "\n",
              "    .colab-df-convert:hover {\n",
              "      background-color: #E2EBFA;\n",
              "      box-shadow: 0px 1px 2px rgba(60, 64, 67, 0.3), 0px 1px 3px 1px rgba(60, 64, 67, 0.15);\n",
              "      fill: #174EA6;\n",
              "    }\n",
              "\n",
              "    .colab-df-buttons div {\n",
              "      margin-bottom: 4px;\n",
              "    }\n",
              "\n",
              "    [theme=dark] .colab-df-convert {\n",
              "      background-color: #3B4455;\n",
              "      fill: #D2E3FC;\n",
              "    }\n",
              "\n",
              "    [theme=dark] .colab-df-convert:hover {\n",
              "      background-color: #434B5C;\n",
              "      box-shadow: 0px 1px 3px 1px rgba(0, 0, 0, 0.15);\n",
              "      filter: drop-shadow(0px 1px 2px rgba(0, 0, 0, 0.3));\n",
              "      fill: #FFFFFF;\n",
              "    }\n",
              "  </style>\n",
              "\n",
              "    <script>\n",
              "      const buttonEl =\n",
              "        document.querySelector('#df-281cfac4-9d47-40b1-9e2f-91f36e5442ec button.colab-df-convert');\n",
              "      buttonEl.style.display =\n",
              "        google.colab.kernel.accessAllowed ? 'block' : 'none';\n",
              "\n",
              "      async function convertToInteractive(key) {\n",
              "        const element = document.querySelector('#df-281cfac4-9d47-40b1-9e2f-91f36e5442ec');\n",
              "        const dataTable =\n",
              "          await google.colab.kernel.invokeFunction('convertToInteractive',\n",
              "                                                    [key], {});\n",
              "        if (!dataTable) return;\n",
              "\n",
              "        const docLinkHtml = 'Like what you see? Visit the ' +\n",
              "          '<a target=\"_blank\" href=https://colab.research.google.com/notebooks/data_table.ipynb>data table notebook</a>'\n",
              "          + ' to learn more about interactive tables.';\n",
              "        element.innerHTML = '';\n",
              "        dataTable['output_type'] = 'display_data';\n",
              "        await google.colab.output.renderOutput(dataTable, element);\n",
              "        const docLink = document.createElement('div');\n",
              "        docLink.innerHTML = docLinkHtml;\n",
              "        element.appendChild(docLink);\n",
              "      }\n",
              "    </script>\n",
              "  </div>\n",
              "\n",
              "\n",
              "<div id=\"df-bfe9a2e3-9575-49c6-b4a8-35fe649f0284\">\n",
              "  <button class=\"colab-df-quickchart\" onclick=\"quickchart('df-bfe9a2e3-9575-49c6-b4a8-35fe649f0284')\"\n",
              "            title=\"Suggest charts\"\n",
              "            style=\"display:none;\">\n",
              "\n",
              "<svg xmlns=\"http://www.w3.org/2000/svg\" height=\"24px\"viewBox=\"0 0 24 24\"\n",
              "     width=\"24px\">\n",
              "    <g>\n",
              "        <path d=\"M19 3H5c-1.1 0-2 .9-2 2v14c0 1.1.9 2 2 2h14c1.1 0 2-.9 2-2V5c0-1.1-.9-2-2-2zM9 17H7v-7h2v7zm4 0h-2V7h2v10zm4 0h-2v-4h2v4z\"/>\n",
              "    </g>\n",
              "</svg>\n",
              "  </button>\n",
              "\n",
              "<style>\n",
              "  .colab-df-quickchart {\n",
              "      --bg-color: #E8F0FE;\n",
              "      --fill-color: #1967D2;\n",
              "      --hover-bg-color: #E2EBFA;\n",
              "      --hover-fill-color: #174EA6;\n",
              "      --disabled-fill-color: #AAA;\n",
              "      --disabled-bg-color: #DDD;\n",
              "  }\n",
              "\n",
              "  [theme=dark] .colab-df-quickchart {\n",
              "      --bg-color: #3B4455;\n",
              "      --fill-color: #D2E3FC;\n",
              "      --hover-bg-color: #434B5C;\n",
              "      --hover-fill-color: #FFFFFF;\n",
              "      --disabled-bg-color: #3B4455;\n",
              "      --disabled-fill-color: #666;\n",
              "  }\n",
              "\n",
              "  .colab-df-quickchart {\n",
              "    background-color: var(--bg-color);\n",
              "    border: none;\n",
              "    border-radius: 50%;\n",
              "    cursor: pointer;\n",
              "    display: none;\n",
              "    fill: var(--fill-color);\n",
              "    height: 32px;\n",
              "    padding: 0;\n",
              "    width: 32px;\n",
              "  }\n",
              "\n",
              "  .colab-df-quickchart:hover {\n",
              "    background-color: var(--hover-bg-color);\n",
              "    box-shadow: 0 1px 2px rgba(60, 64, 67, 0.3), 0 1px 3px 1px rgba(60, 64, 67, 0.15);\n",
              "    fill: var(--button-hover-fill-color);\n",
              "  }\n",
              "\n",
              "  .colab-df-quickchart-complete:disabled,\n",
              "  .colab-df-quickchart-complete:disabled:hover {\n",
              "    background-color: var(--disabled-bg-color);\n",
              "    fill: var(--disabled-fill-color);\n",
              "    box-shadow: none;\n",
              "  }\n",
              "\n",
              "  .colab-df-spinner {\n",
              "    border: 2px solid var(--fill-color);\n",
              "    border-color: transparent;\n",
              "    border-bottom-color: var(--fill-color);\n",
              "    animation:\n",
              "      spin 1s steps(1) infinite;\n",
              "  }\n",
              "\n",
              "  @keyframes spin {\n",
              "    0% {\n",
              "      border-color: transparent;\n",
              "      border-bottom-color: var(--fill-color);\n",
              "      border-left-color: var(--fill-color);\n",
              "    }\n",
              "    20% {\n",
              "      border-color: transparent;\n",
              "      border-left-color: var(--fill-color);\n",
              "      border-top-color: var(--fill-color);\n",
              "    }\n",
              "    30% {\n",
              "      border-color: transparent;\n",
              "      border-left-color: var(--fill-color);\n",
              "      border-top-color: var(--fill-color);\n",
              "      border-right-color: var(--fill-color);\n",
              "    }\n",
              "    40% {\n",
              "      border-color: transparent;\n",
              "      border-right-color: var(--fill-color);\n",
              "      border-top-color: var(--fill-color);\n",
              "    }\n",
              "    60% {\n",
              "      border-color: transparent;\n",
              "      border-right-color: var(--fill-color);\n",
              "    }\n",
              "    80% {\n",
              "      border-color: transparent;\n",
              "      border-right-color: var(--fill-color);\n",
              "      border-bottom-color: var(--fill-color);\n",
              "    }\n",
              "    90% {\n",
              "      border-color: transparent;\n",
              "      border-bottom-color: var(--fill-color);\n",
              "    }\n",
              "  }\n",
              "</style>\n",
              "\n",
              "  <script>\n",
              "    async function quickchart(key) {\n",
              "      const quickchartButtonEl =\n",
              "        document.querySelector('#' + key + ' button');\n",
              "      quickchartButtonEl.disabled = true;  // To prevent multiple clicks.\n",
              "      quickchartButtonEl.classList.add('colab-df-spinner');\n",
              "      try {\n",
              "        const charts = await google.colab.kernel.invokeFunction(\n",
              "            'suggestCharts', [key], {});\n",
              "      } catch (error) {\n",
              "        console.error('Error during call to suggestCharts:', error);\n",
              "      }\n",
              "      quickchartButtonEl.classList.remove('colab-df-spinner');\n",
              "      quickchartButtonEl.classList.add('colab-df-quickchart-complete');\n",
              "    }\n",
              "    (() => {\n",
              "      let quickchartButtonEl =\n",
              "        document.querySelector('#df-bfe9a2e3-9575-49c6-b4a8-35fe649f0284 button');\n",
              "      quickchartButtonEl.style.display =\n",
              "        google.colab.kernel.accessAllowed ? 'block' : 'none';\n",
              "    })();\n",
              "  </script>\n",
              "</div>\n",
              "\n",
              "    </div>\n",
              "  </div>\n"
            ],
            "application/vnd.google.colaboratory.intrinsic+json": {
              "type": "dataframe",
              "summary": "{\n  \"name\": \"historical_storms_new[historical_storms_new[\\\"storm_index\\\"]\",\n  \"rows\": 9,\n  \"fields\": [\n    {\n      \"column\": \"storm_index\",\n      \"properties\": {\n        \"dtype\": \"number\",\n        \"std\": 15,\n        \"min\": 2,\n        \"max\": 42,\n        \"num_unique_values\": 9,\n        \"samples\": [\n          40,\n          3,\n          31\n        ],\n        \"semantic_type\": \"\",\n        \"description\": \"\"\n      }\n    },\n    {\n      \"column\": \"date_start\",\n      \"properties\": {\n        \"dtype\": \"date\",\n        \"min\": \"2001-03-26 08:00:00\",\n        \"max\": \"2014-02-14 08:00:00\",\n        \"num_unique_values\": 9,\n        \"samples\": [\n          \"2013-03-12 20:00:00\",\n          \"2001-04-13 06:00:00\",\n          \"2006-04-09 09:00:00\"\n        ],\n        \"semantic_type\": \"\",\n        \"description\": \"\"\n      }\n    },\n    {\n      \"column\": \"date_end\",\n      \"properties\": {\n        \"dtype\": \"date\",\n        \"min\": \"2001-04-05 07:00:00\",\n        \"max\": \"2014-02-24 07:00:00\",\n        \"num_unique_values\": 9,\n        \"samples\": [\n          \"2013-03-22 19:00:00\",\n          \"2001-04-27 14:00:00\",\n          \"2006-04-19 08:00:00\"\n        ],\n        \"semantic_type\": \"\",\n        \"description\": \"\"\n      }\n    },\n    {\n      \"column\": \"min_DST\",\n      \"properties\": {\n        \"dtype\": \"number\",\n        \"std\": 86.63428882376769,\n        \"min\": -387.0,\n        \"max\": -98.0,\n        \"num_unique_values\": 9,\n        \"samples\": [\n          -132.0,\n          -114.0,\n          -98.0\n        ],\n        \"semantic_type\": \"\",\n        \"description\": \"\"\n      }\n    }\n  ]\n}"
            }
          },
          "metadata": {},
          "execution_count": 47
        }
      ],
      "source": [
        "test_storms = [df for idx, df in enumerate(all_storms) if idx in [x-1 for x in index_test_storms]]\n",
        "historical_storms_new[historical_storms_new[\"storm_index\"].isin(index_test_storms)].reset_index(drop=True)"
      ]
    },
    {
      "cell_type": "markdown",
      "metadata": {
        "id": "6nBKLr47Q0vH"
      },
      "source": [
        "Obtenemos scalers de input y label con todo el conjunto de datos"
      ]
    },
    {
      "cell_type": "code",
      "execution_count": 48,
      "metadata": {
        "id": "dWxN6o_sIFsf"
      },
      "outputs": [],
      "source": [
        "scaler_cols, scaler_label = get_scalers(all_storms, cols_to_use, col_to_predict)"
      ]
    },
    {
      "cell_type": "markdown",
      "metadata": {
        "id": "cCXdN0i2Q0vI"
      },
      "source": [
        "Genereamos ventanas en el formato deseado de los conjuntos de entrenamiento test y validación"
      ]
    },
    {
      "cell_type": "code",
      "execution_count": 49,
      "metadata": {
        "colab": {
          "base_uri": "https://localhost:8080/"
        },
        "id": "mOZ4omeVQ0vI",
        "outputId": "e92cf0e9-f6ba-4d4f-a124-ddeaa344f0b0"
      },
      "outputs": [
        {
          "output_type": "stream",
          "name": "stdout",
          "text": [
            "x_train shape :  (7713, 12, 10) \n",
            "y_train shape: (7713,)\n"
          ]
        }
      ],
      "source": [
        "x_train, y_train = create_window_df_nn(train_storms, lookback, lookforward, cols_to_use, col_to_predict, scaler_cols)\n",
        "print(\"x_train shape : \", x_train.shape, \"\\ny_train shape:\", y_train.shape)"
      ]
    },
    {
      "cell_type": "code",
      "execution_count": 50,
      "metadata": {
        "colab": {
          "base_uri": "https://localhost:8080/"
        },
        "id": "7SgLZ_6YQ0vI",
        "outputId": "e5eb8cc9-9ecd-4daf-8057-74dd986f747f"
      },
      "outputs": [
        {
          "output_type": "stream",
          "name": "stdout",
          "text": [
            "x_test shape :  (2359, 12, 10) \n",
            "y_test shape: (2359,)\n"
          ]
        }
      ],
      "source": [
        "x_test, y_test = create_window_df_nn(test_storms, lookback, lookforward, cols_to_use, col_to_predict, scaler_cols)\n",
        "print(\"x_test shape : \", x_test.shape, \"\\ny_test shape:\", y_test.shape)"
      ]
    },
    {
      "cell_type": "markdown",
      "metadata": {
        "id": "quzbOPpzQ0vJ"
      },
      "source": [
        "Necesario hacer reshape de las ventanas, flatten(). Requerimientos de SVR y algoritmos similares (XGBoost, RandomForest...)  \n",
        "La shape de y_train, y_test se mantiene, comprobamos:"
      ]
    },
    {
      "cell_type": "code",
      "execution_count": 51,
      "metadata": {
        "colab": {
          "base_uri": "https://localhost:8080/"
        },
        "id": "ZMsspUQBQ0vJ",
        "outputId": "4e24d669-e32a-4cd0-bff4-4ec1b2f600f5"
      },
      "outputs": [
        {
          "output_type": "stream",
          "name": "stdout",
          "text": [
            "x_train shape :  (7713, 120) \n",
            "y_train shape: (7713,)\n",
            "x_test shape :  (2359, 120) \n",
            "y_test shape: (2359,)\n"
          ]
        }
      ],
      "source": [
        "X_train = x_train.reshape(x_train.shape[0], -1)  # Transforma a (n_samples, n_features*lookback)\n",
        "X_test = x_test.reshape(x_test.shape[0], -1)  # Lo mismo para el conjunto de prueba\n",
        "\n",
        "print(\"x_train shape : \", X_train.shape, \"\\ny_train shape:\", y_train.shape)\n",
        "print(\"x_test shape : \", X_test.shape, \"\\ny_test shape:\", y_test.shape)"
      ]
    },
    {
      "cell_type": "markdown",
      "metadata": {
        "id": "QSZtUWlLqCAU"
      },
      "source": [
        "### 1.3.3 Codificación de variables categóricas\n",
        "\n",
        "* No existe codificación de variables categóricas porque **no hay variables categóricas). A continuación, se muestra."
      ]
    },
    {
      "cell_type": "code",
      "execution_count": 52,
      "metadata": {
        "colab": {
          "base_uri": "https://localhost:8080/"
        },
        "id": "Xwu8MOV3qb2D",
        "outputId": "e2b8d5b1-56eb-4226-f493-c8aa1130df21"
      },
      "outputs": [
        {
          "output_type": "execute_result",
          "data": {
            "text/plain": [
              "ID_IMF                  float64\n",
              "ID_plasma               float64\n",
              "Bmag                    float64\n",
              "dev_Bmag                float64\n",
              "Bx                      float64\n",
              "By_gse                  float64\n",
              "Bz_gse                  float64\n",
              "By_gsm                  float64\n",
              "Bz_gsm                  float64\n",
              "dev_Bx                  float64\n",
              "dev_By                  float64\n",
              "dev_Bz                  float64\n",
              "P_density               float64\n",
              "dev_P_density           float64\n",
              "AP                      float64\n",
              "dev_AP                  float64\n",
              "E_field                 float64\n",
              "plasma_T                float64\n",
              "dev_plasma_T            float64\n",
              "plasma_V                float64\n",
              "Dst                     float64\n",
              "Datetime         datetime64[ns]\n",
              "dtype: object"
            ]
          },
          "metadata": {},
          "execution_count": 52
        }
      ],
      "source": [
        "pd.concat(all_storms).dtypes"
      ]
    },
    {
      "cell_type": "markdown",
      "metadata": {
        "id": "ULHHGwCjqr6C"
      },
      "source": [
        "# 3 Entrenamiento de modelos"
      ]
    },
    {
      "cell_type": "markdown",
      "metadata": {
        "id": "7zqWtTvA4Ycl"
      },
      "source": [
        "## 3.1 Creación de la ventana temporal"
      ]
    },
    {
      "cell_type": "markdown",
      "metadata": {
        "id": "sAS6wET1Q0vK"
      },
      "source": [
        "Creada mas arriba create_window_df_nn()"
      ]
    },
    {
      "cell_type": "markdown",
      "metadata": {
        "id": "WWNESFbg5L_C"
      },
      "source": [
        "## 3.2 División en train-test."
      ]
    },
    {
      "cell_type": "markdown",
      "metadata": {
        "id": "X0P62UIgQ0vL"
      },
      "source": [
        "Dividido en apartado anteiror"
      ]
    },
    {
      "cell_type": "markdown",
      "metadata": {
        "id": "_2EUAcFYM2ez"
      },
      "source": [
        "## 4 Optimización de la selección de hiperparámetros"
      ]
    },
    {
      "cell_type": "markdown",
      "metadata": {
        "id": "cMvIBJmNQ0vL"
      },
      "source": [
        "### Linear"
      ]
    },
    {
      "cell_type": "code",
      "execution_count": 53,
      "metadata": {
        "id": "DWN8j9R9B6AE"
      },
      "outputs": [],
      "source": [
        "# Define the full path to the SQLite database\n",
        "database_path = os.path.join(tfm_path+tfm_path_Nh_models, f'DEF_kaisa_kernel_LINEAR_pred{lookforward}H_20240720.db')\n",
        "storage_url = f'sqlite:///{database_path}'\n",
        "new_study_name=f\"DEF_kaisa_kernel_LINEAR_pred{lookforward}_20240720\""
      ]
    },
    {
      "cell_type": "code",
      "execution_count": 54,
      "metadata": {
        "id": "DHPLZGd1Q0vM"
      },
      "outputs": [],
      "source": [
        "# Define el espacio de búsqueda de los hiperparámetros discretos\n",
        "kernels = ['linear']\n",
        "\n",
        "# Define el espacio de búsqueda de los hiperparámetros continuos discretizados\n",
        "C_values = np.logspace(-3, 2, num=8)  # 10 valores entre 1e-3 y 1e3\n",
        "epsilon_values = np.logspace(-4, 1, num=6)  # 10 valores entre 1e-4 y 1e1"
      ]
    },
    {
      "cell_type": "code",
      "execution_count": 55,
      "metadata": {
        "colab": {
          "base_uri": "https://localhost:8080/"
        },
        "id": "UByUPMVxQ0vM",
        "outputId": "73d6c03f-1675-4910-ae93-6ebafa5f3f3c"
      },
      "outputs": [
        {
          "output_type": "stream",
          "name": "stdout",
          "text": [
            "{'linear': 48, 'total': 48}\n",
            "48\n"
          ]
        }
      ],
      "source": [
        "from itertools import product\n",
        "num_combinations = {\n",
        "    'linear': len(list(product(C_values, epsilon_values))),\n",
        "}\n",
        "num_combinations['total'] = sum(num_combinations.values())\n",
        "N_TRIALS = num_combinations[\"total\"]\n",
        "print(num_combinations)\n",
        "print(N_TRIALS)"
      ]
    },
    {
      "cell_type": "code",
      "source": [
        "linear_time_max = N_TRIALS * 2\n",
        "print(f\"Esta optimización de hiperparámetros va a durar: {linear_time_max} minutos como máximo\")"
      ],
      "metadata": {
        "colab": {
          "base_uri": "https://localhost:8080/"
        },
        "id": "uAfXu8ssTgAk",
        "outputId": "e888b48d-7271-4c2f-88a1-5d497e2fb9bf"
      },
      "execution_count": 56,
      "outputs": [
        {
          "output_type": "stream",
          "name": "stdout",
          "text": [
            "Esta optimización de hiperparámetros va a durar: 96 minutos como máximo\n"
          ]
        }
      ]
    },
    {
      "cell_type": "code",
      "execution_count": 57,
      "metadata": {
        "id": "23Wuj4jYQ0vN"
      },
      "outputs": [],
      "source": [
        "param_grid = {\n",
        "    'kernel': kernels,\n",
        "    'C': C_values,\n",
        "    'epsilon': epsilon_values\n",
        "}\n",
        "sampler_opt = optuna.samplers.GridSampler(param_grid)"
      ]
    },
    {
      "cell_type": "code",
      "execution_count": 58,
      "metadata": {
        "scrolled": true,
        "colab": {
          "base_uri": "https://localhost:8080/"
        },
        "id": "vZ0IhEkSQ0vN",
        "outputId": "f98b42d3-a4b9-4038-dbe5-2102ba366185"
      },
      "outputs": [
        {
          "output_type": "stream",
          "name": "stderr",
          "text": [
            "[I 2024-07-20 13:54:41,497] Using an existing study with name 'DEF_kaisa_kernel_LINEAR_pred6_20240720' instead of creating a new one.\n",
            "[I 2024-07-20 13:54:41,816] Trial 21 finished with value: 15.329145935278072 and parameters: {'C': 0.7196856730011522, 'epsilon': 10.0, 'kernel': 'linear'}. Best is trial 18 with value: 0.4017928218995875.\n",
            "[W 2024-07-20 13:56:42,062] Trial 22 failed with parameters: {'C': 3.7275937203149416, 'epsilon': 0.001, 'kernel': 'linear'} because of the following error: TimeLimitExceeded('Trial timed out').\n",
            "Traceback (most recent call last):\n",
            "  File \"/usr/local/lib/python3.10/dist-packages/optuna/study/_optimize.py\", line 196, in _run_trial\n",
            "    value_or_values = func(trial)\n",
            "  File \"<ipython-input-58-d1b9fd79399e>\", line 42, in objective\n",
            "    raise TimeLimitExceeded(\"Trial timed out\")\n",
            "TimeLimitExceeded: Trial timed out\n",
            "[W 2024-07-20 13:56:42,070] Trial 22 failed with value None.\n",
            "[W 2024-07-20 13:58:42,329] Trial 23 failed with parameters: {'C': 100.0, 'epsilon': 0.01, 'kernel': 'linear'} because of the following error: TimeLimitExceeded('Trial timed out').\n",
            "Traceback (most recent call last):\n",
            "  File \"/usr/local/lib/python3.10/dist-packages/optuna/study/_optimize.py\", line 196, in _run_trial\n",
            "    value_or_values = func(trial)\n",
            "  File \"<ipython-input-58-d1b9fd79399e>\", line 42, in objective\n",
            "    raise TimeLimitExceeded(\"Trial timed out\")\n",
            "TimeLimitExceeded: Trial timed out\n",
            "[W 2024-07-20 13:58:42,336] Trial 23 failed with value None.\n",
            "[W 2024-07-20 14:00:42,670] Trial 24 failed with parameters: {'C': 0.7196856730011522, 'epsilon': 0.01, 'kernel': 'linear'} because of the following error: TimeLimitExceeded('Trial timed out').\n",
            "Traceback (most recent call last):\n",
            "  File \"/usr/local/lib/python3.10/dist-packages/optuna/study/_optimize.py\", line 196, in _run_trial\n",
            "    value_or_values = func(trial)\n",
            "  File \"<ipython-input-58-d1b9fd79399e>\", line 42, in objective\n",
            "    raise TimeLimitExceeded(\"Trial timed out\")\n",
            "TimeLimitExceeded: Trial timed out\n",
            "[W 2024-07-20 14:00:42,677] Trial 24 failed with value None.\n",
            "[I 2024-07-20 14:00:43,121] Trial 25 finished with value: 15.329145935278072 and parameters: {'C': 19.306977288832496, 'epsilon': 10.0, 'kernel': 'linear'}. Best is trial 18 with value: 0.4017928218995875.\n",
            "[I 2024-07-20 14:00:44,937] Trial 26 finished with value: 0.4480441457764101 and parameters: {'C': 0.005179474679231213, 'epsilon': 1.0, 'kernel': 'linear'}. Best is trial 18 with value: 0.4017928218995875.\n",
            "[W 2024-07-20 14:02:45,301] Trial 27 failed with parameters: {'C': 19.306977288832496, 'epsilon': 0.01, 'kernel': 'linear'} because of the following error: TimeLimitExceeded('Trial timed out').\n",
            "Traceback (most recent call last):\n",
            "  File \"/usr/local/lib/python3.10/dist-packages/optuna/study/_optimize.py\", line 196, in _run_trial\n",
            "    value_or_values = func(trial)\n",
            "  File \"<ipython-input-58-d1b9fd79399e>\", line 42, in objective\n",
            "    raise TimeLimitExceeded(\"Trial timed out\")\n",
            "TimeLimitExceeded: Trial timed out\n",
            "[W 2024-07-20 14:02:45,304] Trial 27 failed with value None.\n",
            "[I 2024-07-20 14:02:45,858] Trial 28 finished with value: 15.329145935278072 and parameters: {'C': 0.001, 'epsilon': 10.0, 'kernel': 'linear'}. Best is trial 18 with value: 0.4017928218995875.\n",
            "[W 2024-07-20 14:04:46,320] Trial 29 failed with parameters: {'C': 3.7275937203149416, 'epsilon': 0.0001, 'kernel': 'linear'} because of the following error: TimeLimitExceeded('Trial timed out').\n",
            "Traceback (most recent call last):\n",
            "  File \"/usr/local/lib/python3.10/dist-packages/optuna/study/_optimize.py\", line 196, in _run_trial\n",
            "    value_or_values = func(trial)\n",
            "  File \"<ipython-input-58-d1b9fd79399e>\", line 42, in objective\n",
            "    raise TimeLimitExceeded(\"Trial timed out\")\n",
            "TimeLimitExceeded: Trial timed out\n",
            "[W 2024-07-20 14:04:46,327] Trial 29 failed with value None.\n",
            "[I 2024-07-20 14:04:46,864] Trial 30 finished with value: 15.329145935278072 and parameters: {'C': 0.13894954943731375, 'epsilon': 10.0, 'kernel': 'linear'}. Best is trial 18 with value: 0.4017928218995875.\n",
            "[W 2024-07-20 14:06:47,556] Trial 31 failed with parameters: {'C': 3.7275937203149416, 'epsilon': 0.01, 'kernel': 'linear'} because of the following error: TimeLimitExceeded('Trial timed out').\n",
            "Traceback (most recent call last):\n",
            "  File \"/usr/local/lib/python3.10/dist-packages/optuna/study/_optimize.py\", line 196, in _run_trial\n",
            "    value_or_values = func(trial)\n",
            "  File \"<ipython-input-58-d1b9fd79399e>\", line 42, in objective\n",
            "    raise TimeLimitExceeded(\"Trial timed out\")\n",
            "TimeLimitExceeded: Trial timed out\n",
            "[W 2024-07-20 14:06:47,581] Trial 31 failed with value None.\n",
            "[I 2024-07-20 14:06:48,795] Trial 32 finished with value: 15.329145935278072 and parameters: {'C': 0.02682695795279726, 'epsilon': 10.0, 'kernel': 'linear'}. Best is trial 18 with value: 0.4017928218995875.\n",
            "[I 2024-07-20 14:06:49,497] Trial 33 finished with value: 15.329145935278072 and parameters: {'C': 3.7275937203149416, 'epsilon': 10.0, 'kernel': 'linear'}. Best is trial 18 with value: 0.4017928218995875.\n",
            "[I 2024-07-20 14:07:41,749] Trial 34 finished with value: 0.4099306492072615 and parameters: {'C': 0.005179474679231213, 'epsilon': 0.0001, 'kernel': 'linear'}. Best is trial 18 with value: 0.4017928218995875.\n",
            "[W 2024-07-20 14:09:42,358] Trial 35 failed with parameters: {'C': 19.306977288832496, 'epsilon': 0.001, 'kernel': 'linear'} because of the following error: TimeLimitExceeded('Trial timed out').\n",
            "Traceback (most recent call last):\n",
            "  File \"/usr/local/lib/python3.10/dist-packages/optuna/study/_optimize.py\", line 196, in _run_trial\n",
            "    value_or_values = func(trial)\n",
            "  File \"<ipython-input-58-d1b9fd79399e>\", line 42, in objective\n",
            "    raise TimeLimitExceeded(\"Trial timed out\")\n",
            "TimeLimitExceeded: Trial timed out\n",
            "[W 2024-07-20 14:09:42,375] Trial 35 failed with value None.\n",
            "[I 2024-07-20 14:10:24,583] Trial 36 finished with value: 0.4258020129506219 and parameters: {'C': 0.001, 'epsilon': 0.001, 'kernel': 'linear'}. Best is trial 18 with value: 0.4017928218995875.\n",
            "[I 2024-07-20 14:11:01,860] Trial 37 finished with value: 0.40664680590674335 and parameters: {'C': 0.005179474679231213, 'epsilon': 0.1, 'kernel': 'linear'}. Best is trial 18 with value: 0.4017928218995875.\n",
            "[W 2024-07-20 14:13:02,397] Trial 38 failed with parameters: {'C': 100.0, 'epsilon': 0.001, 'kernel': 'linear'} because of the following error: TimeLimitExceeded('Trial timed out').\n",
            "Traceback (most recent call last):\n",
            "  File \"/usr/local/lib/python3.10/dist-packages/optuna/study/_optimize.py\", line 196, in _run_trial\n",
            "    value_or_values = func(trial)\n",
            "  File \"<ipython-input-58-d1b9fd79399e>\", line 42, in objective\n",
            "    raise TimeLimitExceeded(\"Trial timed out\")\n",
            "TimeLimitExceeded: Trial timed out\n",
            "[W 2024-07-20 14:13:02,407] Trial 38 failed with value None.\n",
            "[W 2024-07-20 14:15:03,003] Trial 39 failed with parameters: {'C': 0.13894954943731375, 'epsilon': 0.01, 'kernel': 'linear'} because of the following error: TimeLimitExceeded('Trial timed out').\n",
            "Traceback (most recent call last):\n",
            "  File \"/usr/local/lib/python3.10/dist-packages/optuna/study/_optimize.py\", line 196, in _run_trial\n",
            "    value_or_values = func(trial)\n",
            "  File \"<ipython-input-58-d1b9fd79399e>\", line 42, in objective\n",
            "    raise TimeLimitExceeded(\"Trial timed out\")\n",
            "TimeLimitExceeded: Trial timed out\n",
            "[W 2024-07-20 14:15:03,013] Trial 39 failed with value None.\n",
            "[I 2024-07-20 14:15:06,586] Trial 40 finished with value: 0.5000414878565151 and parameters: {'C': 0.001, 'epsilon': 1.0, 'kernel': 'linear'}. Best is trial 18 with value: 0.4017928218995875.\n",
            "[I 2024-07-20 14:15:48,076] Trial 41 finished with value: 0.42199822102239304 and parameters: {'C': 0.001, 'epsilon': 0.1, 'kernel': 'linear'}. Best is trial 18 with value: 0.4017928218995875.\n",
            "[W 2024-07-20 14:17:48,831] Trial 42 failed with parameters: {'C': 0.13894954943731375, 'epsilon': 0.001, 'kernel': 'linear'} because of the following error: TimeLimitExceeded('Trial timed out').\n",
            "Traceback (most recent call last):\n",
            "  File \"/usr/local/lib/python3.10/dist-packages/optuna/study/_optimize.py\", line 196, in _run_trial\n",
            "    value_or_values = func(trial)\n",
            "  File \"<ipython-input-58-d1b9fd79399e>\", line 42, in objective\n",
            "    raise TimeLimitExceeded(\"Trial timed out\")\n",
            "TimeLimitExceeded: Trial timed out\n",
            "[W 2024-07-20 14:17:48,850] Trial 42 failed with value None.\n",
            "[I 2024-07-20 14:18:54,941] Trial 43 finished with value: 0.40905511542855744 and parameters: {'C': 0.005179474679231213, 'epsilon': 0.01, 'kernel': 'linear'}. Best is trial 18 with value: 0.4017928218995875.\n",
            "[W 2024-07-20 14:20:55,654] Trial 44 failed with parameters: {'C': 19.306977288832496, 'epsilon': 0.0001, 'kernel': 'linear'} because of the following error: TimeLimitExceeded('Trial timed out').\n",
            "Traceback (most recent call last):\n",
            "  File \"/usr/local/lib/python3.10/dist-packages/optuna/study/_optimize.py\", line 196, in _run_trial\n",
            "    value_or_values = func(trial)\n",
            "  File \"<ipython-input-58-d1b9fd79399e>\", line 42, in objective\n",
            "    raise TimeLimitExceeded(\"Trial timed out\")\n",
            "TimeLimitExceeded: Trial timed out\n",
            "[W 2024-07-20 14:20:55,662] Trial 44 failed with value None.\n",
            "[I 2024-07-20 14:21:09,327] Trial 45 finished with value: 0.43055035737080266 and parameters: {'C': 0.13894954943731375, 'epsilon': 1.0, 'kernel': 'linear'}. Best is trial 18 with value: 0.4017928218995875.\n",
            "[I 2024-07-20 14:23:03,059] Trial 46 finished with value: 0.40583392492463893 and parameters: {'C': 0.02682695795279726, 'epsilon': 0.001, 'kernel': 'linear'}. Best is trial 18 with value: 0.4017928218995875.\n",
            "[W 2024-07-20 14:25:04,052] Trial 47 failed with parameters: {'C': 100.0, 'epsilon': 0.1, 'kernel': 'linear'} because of the following error: TimeLimitExceeded('Trial timed out').\n",
            "Traceback (most recent call last):\n",
            "  File \"/usr/local/lib/python3.10/dist-packages/optuna/study/_optimize.py\", line 196, in _run_trial\n",
            "    value_or_values = func(trial)\n",
            "  File \"<ipython-input-58-d1b9fd79399e>\", line 42, in objective\n",
            "    raise TimeLimitExceeded(\"Trial timed out\")\n",
            "TimeLimitExceeded: Trial timed out\n",
            "[W 2024-07-20 14:25:04,067] Trial 47 failed with value None.\n"
          ]
        },
        {
          "output_type": "stream",
          "name": "stdout",
          "text": [
            "Best hyperparameters:  {'C': 0.02682695795279726, 'epsilon': 0.1, 'kernel': 'linear'}\n",
            "Best MSE:  0.4017928218995875\n",
            "Número de ensayos realizados por Optuna: 48\n"
          ]
        }
      ],
      "source": [
        "import optuna\n",
        "import numpy as np\n",
        "from sklearn.svm import SVR\n",
        "from sklearn.metrics import mean_squared_error\n",
        "from sklearn.preprocessing import StandardScaler\n",
        "from sklearn.pipeline import make_pipeline\n",
        "from threading import Thread\n",
        "\n",
        "class TimeLimitExceeded(Exception):\n",
        "    pass\n",
        "\n",
        "# Define una función objetivo que Optuna utilizará para la optimización\n",
        "def objective(trial):\n",
        "    # Define los hiperparámetros comunes utilizando valores discretizados\n",
        "    C = trial.suggest_categorical('C', C_values)\n",
        "    epsilon = trial.suggest_categorical('epsilon', epsilon_values)\n",
        "    kernel = trial.suggest_categorical('kernel', kernels)\n",
        "\n",
        "    model = SVR(C=C, epsilon=epsilon, kernel=kernel)\n",
        "\n",
        "    # Define el límite de tiempo para cada ensayo\n",
        "    timeout = 120  # 60 segundos\n",
        "\n",
        "    def fit_and_predict():\n",
        "        nonlocal mse\n",
        "        # Entrena el modelo\n",
        "        model.fit(X_train, y_train)\n",
        "        # Realiza predicciones sobre el conjunto de prueba\n",
        "        y_pred = model.predict(X_test)\n",
        "        # Calcula el error cuadrático medio\n",
        "        mse = mean_squared_error(y_test, y_pred)\n",
        "\n",
        "    mse = float('inf')  # Valor predeterminado alto para MSE\n",
        "\n",
        "    # Inicia el hilo para ejecutar el modelo con límite de tiempo\n",
        "    thread = Thread(target=fit_and_predict)\n",
        "    thread.start()\n",
        "    thread.join(timeout)\n",
        "\n",
        "    if thread.is_alive():\n",
        "        # Si el hilo todavía está activo después del tiempo límite, levantamos una excepción\n",
        "        raise TimeLimitExceeded(\"Trial timed out\")\n",
        "\n",
        "    return mse\n",
        "\n",
        "# Crea un estudio de Optuna y optimiza la función objetivo\n",
        "study = optuna.create_study(study_name=new_study_name, storage=storage_url, load_if_exists=True, direction='minimize', sampler=sampler_opt)\n",
        "\n",
        "# Optimiza sin límite de tiempo total, pero con límite de tiempo por ensayo\n",
        "study.optimize(objective, n_trials=N_TRIALS, catch=(TimeLimitExceeded,))\n",
        "\n",
        "# Muestra los mejores hiperparámetros encontrados\n",
        "print(\"Best hyperparameters: \", study.best_params)\n",
        "print(\"Best MSE: \", study.best_value)\n",
        "\n",
        "# Puedes también guardar el estudio para futuras referencias\n",
        "study.trials_dataframe().to_csv(f\"optuna_study_results_LINEAR_{lookforward}H.csv\")\n",
        "\n",
        "# Imprime el número total de ensayos realizados\n",
        "print(f'Número de ensayos realizados por Optuna: {len(study.trials)}')"
      ]
    },
    {
      "cell_type": "markdown",
      "metadata": {
        "id": "jS2VoPgpQ0vO"
      },
      "source": [
        "### RBF"
      ]
    },
    {
      "cell_type": "code",
      "execution_count": 59,
      "metadata": {
        "id": "wNPFz5-XQ0vO"
      },
      "outputs": [],
      "source": [
        "# Define the full path to the SQLite database\n",
        "database_path = os.path.join(tfm_path+tfm_path_Nh_models, f'DEF_kaisa_kernel_RBF_pred{lookforward}H_20240720.db')\n",
        "storage_url = f'sqlite:///{database_path}'\n",
        "new_study_name=f\"DEF_kaisa_kernel_RBF_pred{lookforward}_20240720\""
      ]
    },
    {
      "cell_type": "code",
      "execution_count": 60,
      "metadata": {
        "id": "ZRDCJfffQ0vO"
      },
      "outputs": [],
      "source": [
        "# Define el espacio de búsqueda de los hiperparámetros discretos\n",
        "kernels = ['rbf']\n",
        "gamma_values = ['scale', 'auto']  # Para el kernel 'rbf'\n",
        "\n",
        "# Define el espacio de búsqueda de los hiperparámetros continuos discretizados\n",
        "C_values = np.logspace(-3, 3, num=6)  # 10 valores entre 1e-3 y 1e3\n",
        "epsilon_values = np.logspace(-4, 1, num=4)  # 10 valores entre 1e-4 y 1e1"
      ]
    },
    {
      "cell_type": "code",
      "execution_count": 61,
      "metadata": {
        "id": "71pprATZQ0vO",
        "colab": {
          "base_uri": "https://localhost:8080/"
        },
        "outputId": "6a0bded1-4c9d-4022-991b-bbca407c1432"
      },
      "outputs": [
        {
          "output_type": "stream",
          "name": "stdout",
          "text": [
            "{'rbf': 48, 'total': 48}\n",
            "48\n"
          ]
        }
      ],
      "source": [
        "num_combinations = {\n",
        "    'rbf': len(list(product(gamma_values, C_values, epsilon_values)))\n",
        "}\n",
        "num_combinations['total'] = sum(num_combinations.values())\n",
        "print(num_combinations)\n",
        "N_TRIALS = num_combinations[\"total\"]\n",
        "print(N_TRIALS)"
      ]
    },
    {
      "cell_type": "code",
      "execution_count": 62,
      "metadata": {
        "id": "uHAlJbBeQ0vP"
      },
      "outputs": [],
      "source": [
        "param_grid = {\n",
        "    'kernel': kernels,\n",
        "    'gamma': gamma_values,\n",
        "    'C': C_values,\n",
        "    'epsilon': epsilon_values\n",
        "}\n",
        "sampler_opt = optuna.samplers.GridSampler(param_grid)"
      ]
    },
    {
      "cell_type": "code",
      "source": [
        "rbf_time_max = N_TRIALS * 2\n",
        "print(f\"Esta optimización de hiperparámetros va a durar: {rbf_time_max} minutos como máximo\")"
      ],
      "metadata": {
        "colab": {
          "base_uri": "https://localhost:8080/"
        },
        "id": "R5z0WgzZT7VC",
        "outputId": "e2e37ea4-d6b7-4f27-e5dd-706132377fa2"
      },
      "execution_count": 63,
      "outputs": [
        {
          "output_type": "stream",
          "name": "stdout",
          "text": [
            "Esta optimización de hiperparámetros va a durar: 96 minutos como máximo\n"
          ]
        }
      ]
    },
    {
      "cell_type": "code",
      "execution_count": 64,
      "metadata": {
        "id": "RnbC7yoTQ0vP",
        "colab": {
          "base_uri": "https://localhost:8080/"
        },
        "outputId": "45165f98-efff-48da-8cc7-efb106a26bdb"
      },
      "outputs": [
        {
          "output_type": "stream",
          "name": "stderr",
          "text": [
            "[I 2024-07-20 14:25:07,157] A new study created in RDB with name: DEF_kaisa_kernel_RBF_pred6_20240720\n",
            "[W 2024-07-20 14:27:08,380] Trial 0 failed with parameters: {'C': 63.0957344480193, 'epsilon': 0.0001, 'kernel': 'rbf', 'gamma': 'scale'} because of the following error: TimeLimitExceeded('Trial timed out').\n",
            "Traceback (most recent call last):\n",
            "  File \"/usr/local/lib/python3.10/dist-packages/optuna/study/_optimize.py\", line 196, in _run_trial\n",
            "    value_or_values = func(trial)\n",
            "  File \"<ipython-input-64-57528c5b8ebb>\", line 35, in objective\n",
            "    raise TimeLimitExceeded(\"Trial timed out\")\n",
            "TimeLimitExceeded: Trial timed out\n",
            "[W 2024-07-20 14:27:08,394] Trial 0 failed with value None.\n",
            "[I 2024-07-20 14:27:10,149] Trial 1 finished with value: 15.329145935278072 and parameters: {'C': 0.015848931924611134, 'epsilon': 10.0, 'kernel': 'rbf', 'gamma': 'scale'}. Best is trial 1 with value: 15.329145935278072.\n",
            "[I 2024-07-20 14:27:11,186] Trial 2 finished with value: 15.329145935278072 and parameters: {'C': 0.015848931924611134, 'epsilon': 10.0, 'kernel': 'rbf', 'gamma': 'auto'}. Best is trial 1 with value: 15.329145935278072.\n",
            "[I 2024-07-20 14:28:56,540] Trial 3 finished with value: 0.5195155788737709 and parameters: {'C': 0.25118864315095796, 'epsilon': 0.004641588833612782, 'kernel': 'rbf', 'gamma': 'auto'}. Best is trial 3 with value: 0.5195155788737709.\n",
            "[W 2024-07-20 14:30:58,185] Trial 4 failed with parameters: {'C': 1000.0, 'epsilon': 0.0001, 'kernel': 'rbf', 'gamma': 'scale'} because of the following error: TimeLimitExceeded('Trial timed out').\n",
            "Traceback (most recent call last):\n",
            "  File \"/usr/local/lib/python3.10/dist-packages/optuna/study/_optimize.py\", line 196, in _run_trial\n",
            "    value_or_values = func(trial)\n",
            "  File \"<ipython-input-64-57528c5b8ebb>\", line 35, in objective\n",
            "    raise TimeLimitExceeded(\"Trial timed out\")\n",
            "TimeLimitExceeded: Trial timed out\n",
            "[W 2024-07-20 14:30:58,205] Trial 4 failed with value None.\n",
            "[W 2024-07-20 14:33:00,174] Trial 5 failed with parameters: {'C': 1000.0, 'epsilon': 0.0001, 'kernel': 'rbf', 'gamma': 'auto'} because of the following error: TimeLimitExceeded('Trial timed out').\n",
            "Traceback (most recent call last):\n",
            "  File \"/usr/local/lib/python3.10/dist-packages/optuna/study/_optimize.py\", line 196, in _run_trial\n",
            "    value_or_values = func(trial)\n",
            "  File \"<ipython-input-64-57528c5b8ebb>\", line 35, in objective\n",
            "    raise TimeLimitExceeded(\"Trial timed out\")\n",
            "TimeLimitExceeded: Trial timed out\n",
            "[W 2024-07-20 14:33:00,203] Trial 5 failed with value None.\n",
            "[W 2024-07-20 14:35:02,120] Trial 6 failed with parameters: {'C': 1000.0, 'epsilon': 0.004641588833612782, 'kernel': 'rbf', 'gamma': 'auto'} because of the following error: TimeLimitExceeded('Trial timed out').\n",
            "Traceback (most recent call last):\n",
            "  File \"/usr/local/lib/python3.10/dist-packages/optuna/study/_optimize.py\", line 196, in _run_trial\n",
            "    value_or_values = func(trial)\n",
            "  File \"<ipython-input-64-57528c5b8ebb>\", line 35, in objective\n",
            "    raise TimeLimitExceeded(\"Trial timed out\")\n",
            "TimeLimitExceeded: Trial timed out\n",
            "[W 2024-07-20 14:35:02,141] Trial 6 failed with value None.\n",
            "[I 2024-07-20 14:35:06,702] Trial 7 finished with value: 15.329145935278072 and parameters: {'C': 0.25118864315095796, 'epsilon': 10.0, 'kernel': 'rbf', 'gamma': 'auto'}. Best is trial 3 with value: 0.5195155788737709.\n",
            "[I 2024-07-20 14:35:55,080] Trial 8 finished with value: 0.5026234962184405 and parameters: {'C': 0.25118864315095796, 'epsilon': 0.21544346900318845, 'kernel': 'rbf', 'gamma': 'scale'}. Best is trial 8 with value: 0.5026234962184405.\n",
            "[I 2024-07-20 14:37:01,380] Trial 9 finished with value: 0.4498609868547797 and parameters: {'C': 3.981071705534969, 'epsilon': 0.21544346900318845, 'kernel': 'rbf', 'gamma': 'auto'}. Best is trial 9 with value: 0.4498609868547797.\n",
            "[W 2024-07-20 14:39:02,504] Trial 10 failed with parameters: {'C': 63.0957344480193, 'epsilon': 0.0001, 'kernel': 'rbf', 'gamma': 'auto'} because of the following error: TimeLimitExceeded('Trial timed out').\n",
            "Traceback (most recent call last):\n",
            "  File \"/usr/local/lib/python3.10/dist-packages/optuna/study/_optimize.py\", line 196, in _run_trial\n",
            "    value_or_values = func(trial)\n",
            "  File \"<ipython-input-64-57528c5b8ebb>\", line 35, in objective\n",
            "    raise TimeLimitExceeded(\"Trial timed out\")\n",
            "TimeLimitExceeded: Trial timed out\n",
            "[W 2024-07-20 14:39:02,507] Trial 10 failed with value None.\n",
            "[W 2024-07-20 14:41:03,765] Trial 11 failed with parameters: {'C': 0.001, 'epsilon': 0.004641588833612782, 'kernel': 'rbf', 'gamma': 'scale'} because of the following error: TimeLimitExceeded('Trial timed out').\n",
            "Traceback (most recent call last):\n",
            "  File \"/usr/local/lib/python3.10/dist-packages/optuna/study/_optimize.py\", line 196, in _run_trial\n",
            "    value_or_values = func(trial)\n",
            "  File \"<ipython-input-64-57528c5b8ebb>\", line 35, in objective\n",
            "    raise TimeLimitExceeded(\"Trial timed out\")\n",
            "TimeLimitExceeded: Trial timed out\n",
            "[W 2024-07-20 14:41:03,784] Trial 11 failed with value None.\n",
            "[I 2024-07-20 14:41:05,308] Trial 12 finished with value: 15.329145935278072 and parameters: {'C': 0.001, 'epsilon': 10.0, 'kernel': 'rbf', 'gamma': 'auto'}. Best is trial 9 with value: 0.4498609868547797.\n",
            "[I 2024-07-20 14:41:06,796] Trial 13 finished with value: 15.329145935278072 and parameters: {'C': 1000.0, 'epsilon': 10.0, 'kernel': 'rbf', 'gamma': 'auto'}. Best is trial 9 with value: 0.4498609868547797.\n",
            "[W 2024-07-20 14:43:08,192] Trial 14 failed with parameters: {'C': 0.001, 'epsilon': 0.0001, 'kernel': 'rbf', 'gamma': 'scale'} because of the following error: TimeLimitExceeded('Trial timed out').\n",
            "Traceback (most recent call last):\n",
            "  File \"/usr/local/lib/python3.10/dist-packages/optuna/study/_optimize.py\", line 196, in _run_trial\n",
            "    value_or_values = func(trial)\n",
            "  File \"<ipython-input-64-57528c5b8ebb>\", line 35, in objective\n",
            "    raise TimeLimitExceeded(\"Trial timed out\")\n",
            "TimeLimitExceeded: Trial timed out\n",
            "[W 2024-07-20 14:43:08,198] Trial 14 failed with value None.\n",
            "[W 2024-07-20 14:45:09,931] Trial 15 failed with parameters: {'C': 1000.0, 'epsilon': 0.21544346900318845, 'kernel': 'rbf', 'gamma': 'auto'} because of the following error: TimeLimitExceeded('Trial timed out').\n",
            "Traceback (most recent call last):\n",
            "  File \"/usr/local/lib/python3.10/dist-packages/optuna/study/_optimize.py\", line 196, in _run_trial\n",
            "    value_or_values = func(trial)\n",
            "  File \"<ipython-input-64-57528c5b8ebb>\", line 35, in objective\n",
            "    raise TimeLimitExceeded(\"Trial timed out\")\n",
            "TimeLimitExceeded: Trial timed out\n",
            "[W 2024-07-20 14:45:09,939] Trial 15 failed with value None.\n",
            "[W 2024-07-20 14:47:12,073] Trial 16 failed with parameters: {'C': 0.015848931924611134, 'epsilon': 0.004641588833612782, 'kernel': 'rbf', 'gamma': 'scale'} because of the following error: TimeLimitExceeded('Trial timed out').\n",
            "Traceback (most recent call last):\n",
            "  File \"/usr/local/lib/python3.10/dist-packages/optuna/study/_optimize.py\", line 196, in _run_trial\n",
            "    value_or_values = func(trial)\n",
            "  File \"<ipython-input-64-57528c5b8ebb>\", line 35, in objective\n",
            "    raise TimeLimitExceeded(\"Trial timed out\")\n",
            "TimeLimitExceeded: Trial timed out\n",
            "[W 2024-07-20 14:47:12,093] Trial 16 failed with value None.\n",
            "[I 2024-07-20 14:48:34,107] Trial 17 finished with value: 0.958887456859675 and parameters: {'C': 0.001, 'epsilon': 0.21544346900318845, 'kernel': 'rbf', 'gamma': 'scale'}. Best is trial 9 with value: 0.4498609868547797.\n",
            "[I 2024-07-20 14:49:31,012] Trial 18 finished with value: 0.6340756398942019 and parameters: {'C': 0.015848931924611134, 'epsilon': 0.21544346900318845, 'kernel': 'rbf', 'gamma': 'scale'}. Best is trial 9 with value: 0.4498609868547797.\n",
            "[W 2024-07-20 14:51:32,311] Trial 19 failed with parameters: {'C': 0.001, 'epsilon': 0.004641588833612782, 'kernel': 'rbf', 'gamma': 'auto'} because of the following error: TimeLimitExceeded('Trial timed out').\n",
            "Traceback (most recent call last):\n",
            "  File \"/usr/local/lib/python3.10/dist-packages/optuna/study/_optimize.py\", line 196, in _run_trial\n",
            "    value_or_values = func(trial)\n",
            "  File \"<ipython-input-64-57528c5b8ebb>\", line 35, in objective\n",
            "    raise TimeLimitExceeded(\"Trial timed out\")\n",
            "TimeLimitExceeded: Trial timed out\n",
            "[W 2024-07-20 14:51:32,319] Trial 19 failed with value None.\n",
            "[W 2024-07-20 14:53:33,291] Trial 20 failed with parameters: {'C': 63.0957344480193, 'epsilon': 0.21544346900318845, 'kernel': 'rbf', 'gamma': 'scale'} because of the following error: TimeLimitExceeded('Trial timed out').\n",
            "Traceback (most recent call last):\n",
            "  File \"/usr/local/lib/python3.10/dist-packages/optuna/study/_optimize.py\", line 196, in _run_trial\n",
            "    value_or_values = func(trial)\n",
            "  File \"<ipython-input-64-57528c5b8ebb>\", line 35, in objective\n",
            "    raise TimeLimitExceeded(\"Trial timed out\")\n",
            "TimeLimitExceeded: Trial timed out\n",
            "[W 2024-07-20 14:53:33,310] Trial 20 failed with value None.\n",
            "[W 2024-07-20 14:55:34,675] Trial 21 failed with parameters: {'C': 0.25118864315095796, 'epsilon': 0.0001, 'kernel': 'rbf', 'gamma': 'auto'} because of the following error: TimeLimitExceeded('Trial timed out').\n",
            "Traceback (most recent call last):\n",
            "  File \"/usr/local/lib/python3.10/dist-packages/optuna/study/_optimize.py\", line 196, in _run_trial\n",
            "    value_or_values = func(trial)\n",
            "  File \"<ipython-input-64-57528c5b8ebb>\", line 35, in objective\n",
            "    raise TimeLimitExceeded(\"Trial timed out\")\n",
            "TimeLimitExceeded: Trial timed out\n",
            "[W 2024-07-20 14:55:34,691] Trial 21 failed with value None.\n",
            "[I 2024-07-20 14:55:36,119] Trial 22 finished with value: 15.329145935278072 and parameters: {'C': 0.25118864315095796, 'epsilon': 10.0, 'kernel': 'rbf', 'gamma': 'scale'}. Best is trial 9 with value: 0.4498609868547797.\n",
            "[I 2024-07-20 14:57:35,851] Trial 23 finished with value: 0.5168847889199255 and parameters: {'C': 0.25118864315095796, 'epsilon': 0.004641588833612782, 'kernel': 'rbf', 'gamma': 'scale'}. Best is trial 9 with value: 0.4498609868547797.\n",
            "[I 2024-07-20 14:57:37,228] Trial 24 finished with value: 15.329145935278072 and parameters: {'C': 0.001, 'epsilon': 10.0, 'kernel': 'rbf', 'gamma': 'scale'}. Best is trial 9 with value: 0.4498609868547797.\n",
            "[I 2024-07-20 14:58:32,949] Trial 25 finished with value: 0.4467700432455807 and parameters: {'C': 3.981071705534969, 'epsilon': 0.21544346900318845, 'kernel': 'rbf', 'gamma': 'scale'}. Best is trial 25 with value: 0.4467700432455807.\n",
            "[I 2024-07-20 15:00:27,107] Trial 26 finished with value: 0.9542364680574488 and parameters: {'C': 0.001, 'epsilon': 0.0001, 'kernel': 'rbf', 'gamma': 'auto'}. Best is trial 25 with value: 0.4467700432455807.\n",
            "[I 2024-07-20 15:02:16,089] Trial 27 finished with value: 0.6466439260255864 and parameters: {'C': 0.015848931924611134, 'epsilon': 0.0001, 'kernel': 'rbf', 'gamma': 'scale'}. Best is trial 25 with value: 0.4467700432455807.\n",
            "[W 2024-07-20 15:04:17,533] Trial 28 failed with parameters: {'C': 63.0957344480193, 'epsilon': 0.004641588833612782, 'kernel': 'rbf', 'gamma': 'scale'} because of the following error: TimeLimitExceeded('Trial timed out').\n",
            "Traceback (most recent call last):\n",
            "  File \"/usr/local/lib/python3.10/dist-packages/optuna/study/_optimize.py\", line 196, in _run_trial\n",
            "    value_or_values = func(trial)\n",
            "  File \"<ipython-input-64-57528c5b8ebb>\", line 35, in objective\n",
            "    raise TimeLimitExceeded(\"Trial timed out\")\n",
            "TimeLimitExceeded: Trial timed out\n",
            "[W 2024-07-20 15:04:17,563] Trial 28 failed with value None.\n",
            "[I 2024-07-20 15:05:31,705] Trial 29 finished with value: 0.9612276147087906 and parameters: {'C': 0.001, 'epsilon': 0.21544346900318845, 'kernel': 'rbf', 'gamma': 'auto'}. Best is trial 25 with value: 0.4467700432455807.\n",
            "[I 2024-07-20 15:05:33,661] Trial 30 finished with value: 15.329145935278072 and parameters: {'C': 3.981071705534969, 'epsilon': 10.0, 'kernel': 'rbf', 'gamma': 'scale'}. Best is trial 25 with value: 0.4467700432455807.\n",
            "[I 2024-07-20 15:05:35,990] Trial 31 finished with value: 15.329145935278072 and parameters: {'C': 1000.0, 'epsilon': 10.0, 'kernel': 'rbf', 'gamma': 'scale'}. Best is trial 25 with value: 0.4467700432455807.\n",
            "[I 2024-07-20 15:06:23,840] Trial 32 finished with value: 0.6379566231645716 and parameters: {'C': 0.015848931924611134, 'epsilon': 0.21544346900318845, 'kernel': 'rbf', 'gamma': 'auto'}. Best is trial 25 with value: 0.4467700432455807.\n",
            "[I 2024-07-20 15:07:02,889] Trial 33 finished with value: 0.505286563677039 and parameters: {'C': 0.25118864315095796, 'epsilon': 0.21544346900318845, 'kernel': 'rbf', 'gamma': 'auto'}. Best is trial 25 with value: 0.4467700432455807.\n",
            "[W 2024-07-20 15:09:03,835] Trial 34 failed with parameters: {'C': 3.981071705534969, 'epsilon': 0.004641588833612782, 'kernel': 'rbf', 'gamma': 'auto'} because of the following error: TimeLimitExceeded('Trial timed out').\n",
            "Traceback (most recent call last):\n",
            "  File \"/usr/local/lib/python3.10/dist-packages/optuna/study/_optimize.py\", line 196, in _run_trial\n",
            "    value_or_values = func(trial)\n",
            "  File \"<ipython-input-64-57528c5b8ebb>\", line 35, in objective\n",
            "    raise TimeLimitExceeded(\"Trial timed out\")\n",
            "TimeLimitExceeded: Trial timed out\n",
            "[W 2024-07-20 15:09:03,856] Trial 34 failed with value None.\n",
            "[I 2024-07-20 15:10:58,712] Trial 35 finished with value: 0.5172035061787 and parameters: {'C': 0.25118864315095796, 'epsilon': 0.0001, 'kernel': 'rbf', 'gamma': 'scale'}. Best is trial 25 with value: 0.4467700432455807.\n",
            "[I 2024-07-20 15:12:27,582] Trial 36 finished with value: 0.5256936062864964 and parameters: {'C': 63.0957344480193, 'epsilon': 0.21544346900318845, 'kernel': 'rbf', 'gamma': 'auto'}. Best is trial 25 with value: 0.4467700432455807.\n",
            "[I 2024-07-20 15:13:53,937] Trial 37 finished with value: 0.649614519227201 and parameters: {'C': 0.015848931924611134, 'epsilon': 0.004641588833612782, 'kernel': 'rbf', 'gamma': 'auto'}. Best is trial 25 with value: 0.4467700432455807.\n",
            "[W 2024-07-20 15:15:55,411] Trial 38 failed with parameters: {'C': 1000.0, 'epsilon': 0.004641588833612782, 'kernel': 'rbf', 'gamma': 'scale'} because of the following error: TimeLimitExceeded('Trial timed out').\n",
            "Traceback (most recent call last):\n",
            "  File \"/usr/local/lib/python3.10/dist-packages/optuna/study/_optimize.py\", line 196, in _run_trial\n",
            "    value_or_values = func(trial)\n",
            "  File \"<ipython-input-64-57528c5b8ebb>\", line 35, in objective\n",
            "    raise TimeLimitExceeded(\"Trial timed out\")\n",
            "TimeLimitExceeded: Trial timed out\n",
            "[W 2024-07-20 15:15:55,442] Trial 38 failed with value None.\n",
            "[W 2024-07-20 15:17:57,018] Trial 39 failed with parameters: {'C': 3.981071705534969, 'epsilon': 0.004641588833612782, 'kernel': 'rbf', 'gamma': 'scale'} because of the following error: TimeLimitExceeded('Trial timed out').\n",
            "Traceback (most recent call last):\n",
            "  File \"/usr/local/lib/python3.10/dist-packages/optuna/study/_optimize.py\", line 196, in _run_trial\n",
            "    value_or_values = func(trial)\n",
            "  File \"<ipython-input-64-57528c5b8ebb>\", line 35, in objective\n",
            "    raise TimeLimitExceeded(\"Trial timed out\")\n",
            "TimeLimitExceeded: Trial timed out\n",
            "[W 2024-07-20 15:17:57,027] Trial 39 failed with value None.\n",
            "[I 2024-07-20 15:17:57,960] Trial 40 finished with value: 15.329145935278072 and parameters: {'C': 3.981071705534969, 'epsilon': 10.0, 'kernel': 'rbf', 'gamma': 'auto'}. Best is trial 25 with value: 0.4467700432455807.\n",
            "[W 2024-07-20 15:19:58,981] Trial 41 failed with parameters: {'C': 1000.0, 'epsilon': 0.21544346900318845, 'kernel': 'rbf', 'gamma': 'scale'} because of the following error: TimeLimitExceeded('Trial timed out').\n",
            "Traceback (most recent call last):\n",
            "  File \"/usr/local/lib/python3.10/dist-packages/optuna/study/_optimize.py\", line 196, in _run_trial\n",
            "    value_or_values = func(trial)\n",
            "  File \"<ipython-input-64-57528c5b8ebb>\", line 35, in objective\n",
            "    raise TimeLimitExceeded(\"Trial timed out\")\n",
            "TimeLimitExceeded: Trial timed out\n",
            "[W 2024-07-20 15:19:58,989] Trial 41 failed with value None.\n",
            "[I 2024-07-20 15:20:00,255] Trial 42 finished with value: 15.329145935278072 and parameters: {'C': 63.0957344480193, 'epsilon': 10.0, 'kernel': 'rbf', 'gamma': 'auto'}. Best is trial 25 with value: 0.4467700432455807.\n",
            "[W 2024-07-20 15:22:01,570] Trial 43 failed with parameters: {'C': 63.0957344480193, 'epsilon': 0.004641588833612782, 'kernel': 'rbf', 'gamma': 'auto'} because of the following error: TimeLimitExceeded('Trial timed out').\n",
            "Traceback (most recent call last):\n",
            "  File \"/usr/local/lib/python3.10/dist-packages/optuna/study/_optimize.py\", line 196, in _run_trial\n",
            "    value_or_values = func(trial)\n",
            "  File \"<ipython-input-64-57528c5b8ebb>\", line 35, in objective\n",
            "    raise TimeLimitExceeded(\"Trial timed out\")\n",
            "TimeLimitExceeded: Trial timed out\n",
            "[W 2024-07-20 15:22:01,573] Trial 43 failed with value None.\n",
            "[W 2024-07-20 15:24:02,992] Trial 44 failed with parameters: {'C': 3.981071705534969, 'epsilon': 0.0001, 'kernel': 'rbf', 'gamma': 'auto'} because of the following error: TimeLimitExceeded('Trial timed out').\n",
            "Traceback (most recent call last):\n",
            "  File \"/usr/local/lib/python3.10/dist-packages/optuna/study/_optimize.py\", line 196, in _run_trial\n",
            "    value_or_values = func(trial)\n",
            "  File \"<ipython-input-64-57528c5b8ebb>\", line 35, in objective\n",
            "    raise TimeLimitExceeded(\"Trial timed out\")\n",
            "TimeLimitExceeded: Trial timed out\n",
            "[W 2024-07-20 15:24:03,026] Trial 44 failed with value None.\n",
            "[W 2024-07-20 15:26:04,758] Trial 45 failed with parameters: {'C': 3.981071705534969, 'epsilon': 0.0001, 'kernel': 'rbf', 'gamma': 'scale'} because of the following error: TimeLimitExceeded('Trial timed out').\n",
            "Traceback (most recent call last):\n",
            "  File \"/usr/local/lib/python3.10/dist-packages/optuna/study/_optimize.py\", line 196, in _run_trial\n",
            "    value_or_values = func(trial)\n",
            "  File \"<ipython-input-64-57528c5b8ebb>\", line 35, in objective\n",
            "    raise TimeLimitExceeded(\"Trial timed out\")\n",
            "TimeLimitExceeded: Trial timed out\n",
            "[W 2024-07-20 15:26:04,763] Trial 45 failed with value None.\n",
            "[I 2024-07-20 15:27:56,249] Trial 46 finished with value: 0.64964950741435 and parameters: {'C': 0.015848931924611134, 'epsilon': 0.0001, 'kernel': 'rbf', 'gamma': 'auto'}. Best is trial 25 with value: 0.4467700432455807.\n",
            "[I 2024-07-20 15:27:58,711] Trial 47 finished with value: 15.329145935278072 and parameters: {'C': 63.0957344480193, 'epsilon': 10.0, 'kernel': 'rbf', 'gamma': 'scale'}. Best is trial 25 with value: 0.4467700432455807.\n"
          ]
        },
        {
          "output_type": "stream",
          "name": "stdout",
          "text": [
            "Best hyperparameters:  {'C': 3.981071705534969, 'epsilon': 0.21544346900318845, 'kernel': 'rbf', 'gamma': 'scale'}\n",
            "Best MSE:  0.4467700432455807\n",
            "Número de ensayos realizados por Optuna: 48\n"
          ]
        }
      ],
      "source": [
        "class TimeLimitExceeded(Exception):\n",
        "    pass\n",
        "\n",
        "# Define una función objetivo que Optuna utilizará para la optimización\n",
        "def objective(trial):\n",
        "    # Define los hiperparámetros comunes utilizando valores discretizados\n",
        "    C = trial.suggest_categorical('C', C_values)\n",
        "    epsilon = trial.suggest_categorical('epsilon', epsilon_values)\n",
        "    kernel = trial.suggest_categorical('kernel', kernels)\n",
        "\n",
        "    gamma = trial.suggest_categorical('gamma', gamma_values)\n",
        "    model = SVR(C=C, epsilon=epsilon, kernel=kernel, gamma=gamma)\n",
        "\n",
        "    # Define el límite de tiempo para cada ensayo\n",
        "    timeout = 120  # 60 segundos\n",
        "\n",
        "    def fit_and_predict():\n",
        "        nonlocal mse\n",
        "        # Entrena el modelo\n",
        "        model.fit(X_train, y_train)\n",
        "        # Realiza predicciones sobre el conjunto de prueba\n",
        "        y_pred = model.predict(X_test)\n",
        "        # Calcula el error cuadrático medio\n",
        "        mse = mean_squared_error(y_test, y_pred)\n",
        "\n",
        "    mse = float('inf')  # Valor predeterminado alto para MSE\n",
        "\n",
        "    # Inicia el hilo para ejecutar el modelo con límite de tiempo\n",
        "    thread = Thread(target=fit_and_predict)\n",
        "    thread.start()\n",
        "    thread.join(timeout)\n",
        "\n",
        "    if thread.is_alive():\n",
        "        # Si el hilo todavía está activo después del tiempo límite, levantamos una excepción\n",
        "        raise TimeLimitExceeded(\"Trial timed out\")\n",
        "\n",
        "    return mse\n",
        "\n",
        "# Crea un estudio de Optuna y optimiza la función objetivo\n",
        "study = optuna.create_study(study_name=new_study_name, storage=storage_url, load_if_exists=True, direction='minimize', sampler=sampler_opt)\n",
        "\n",
        "# Optimiza sin límite de tiempo total, pero con límite de tiempo por ensayo\n",
        "study.optimize(objective, n_trials=N_TRIALS, catch=(TimeLimitExceeded,))\n",
        "\n",
        "# Muestra los mejores hiperparámetros encontrados\n",
        "print(\"Best hyperparameters: \", study.best_params)\n",
        "print(\"Best MSE: \", study.best_value)\n",
        "\n",
        "# Puedes también guardar el estudio para futuras referencias\n",
        "study.trials_dataframe().to_csv(f\"optuna_study_results_RBF_{lookforward}H.csv\")\n",
        "\n",
        "# Imprime el número total de ensayos realizados\n",
        "print(f'Número de ensayos realizados por Optuna: {len(study.trials)}')\n"
      ]
    },
    {
      "cell_type": "markdown",
      "metadata": {
        "id": "GIaynRiwQ0vP"
      },
      "source": [
        "POLY"
      ]
    },
    {
      "cell_type": "code",
      "execution_count": 65,
      "metadata": {
        "id": "dc00mMvhQ0vQ"
      },
      "outputs": [],
      "source": [
        "# Define the full path to the SQLite database\n",
        "database_path = os.path.join(tfm_path+tfm_path_Nh_models, f'DEF_kaisa_kernel_POLY_pred{lookforward}H_20240720.db')\n",
        "storage_url = f'sqlite:///{database_path}'\n",
        "new_study_name=f\"DEF_kaisa_kernel_POLY_pred{lookforward}_20240720\""
      ]
    },
    {
      "cell_type": "code",
      "execution_count": 66,
      "metadata": {
        "id": "hpkSzMOQQ0vQ"
      },
      "outputs": [],
      "source": [
        "# Define el espacio de búsqueda de los hiperparámetros discretos\n",
        "kernels = ['poly']\n",
        "degrees = [3, 4, 5]  # Para el kernel 'poly'\n",
        "coef0_values = [1e-1, 1]  # Para los kernels 'poly' y 'sigmoid'\n",
        "gamma_values = ['scale']  # Para el kernel 'rbf']\n",
        "\n",
        "# Define el espacio de búsqueda de los hiperparámetros continuos discretizados\n",
        "C_values = np.logspace(-3, 3, num=3)  # 4 valores entre 1e-3 y 1e3\n",
        "epsilon_values = np.logspace(-2, 1, num=3)  # 4 valores entre 1e-4 y 1e1"
      ]
    },
    {
      "cell_type": "code",
      "execution_count": 67,
      "metadata": {
        "id": "lqC-BN5PQ0vQ",
        "colab": {
          "base_uri": "https://localhost:8080/"
        },
        "outputId": "9bd1d2d7-5055-477d-ba7e-3f29f4bbc0ee"
      },
      "outputs": [
        {
          "output_type": "stream",
          "name": "stdout",
          "text": [
            "{'poly': 54, 'total': 54}\n",
            "54\n"
          ]
        }
      ],
      "source": [
        "num_combinations = {\n",
        "    'poly': len(list(product(degrees, coef0_values, C_values, epsilon_values))),\n",
        "}\n",
        "num_combinations['total'] = sum(num_combinations.values())\n",
        "print(num_combinations)\n",
        "N_TRIALS = num_combinations[\"total\"]\n",
        "print(N_TRIALS)"
      ]
    },
    {
      "cell_type": "code",
      "source": [
        "poly_time_max = N_TRIALS * 2\n",
        "print(f\"Esta optimización de hiperparámetros va a durar: {poly_time_max} minutos como máximo\")"
      ],
      "metadata": {
        "colab": {
          "base_uri": "https://localhost:8080/"
        },
        "id": "iCScTMbvTzno",
        "outputId": "32a62c88-5182-4f5d-fb18-82bf340568ff"
      },
      "execution_count": 68,
      "outputs": [
        {
          "output_type": "stream",
          "name": "stdout",
          "text": [
            "Esta optimización de hiperparámetros va a durar: 108 minutos como máximo\n"
          ]
        }
      ]
    },
    {
      "cell_type": "code",
      "execution_count": 69,
      "metadata": {
        "id": "0nGEpFuEQ0vQ"
      },
      "outputs": [],
      "source": [
        "param_grid = {\n",
        "    'kernel': kernels,\n",
        "    'gamma': gamma_values,\n",
        "    'C': C_values,\n",
        "    'degree': degrees,\n",
        "    'coef0': coef0_values,\n",
        "    'epsilon': epsilon_values\n",
        "}\n",
        "sampler_opt = optuna.samplers.GridSampler(param_grid)"
      ]
    },
    {
      "cell_type": "code",
      "execution_count": 70,
      "metadata": {
        "id": "LwdYETF1Q0vR",
        "colab": {
          "base_uri": "https://localhost:8080/"
        },
        "outputId": "47e35696-69ce-41fc-ba35-11628e3ae579"
      },
      "outputs": [
        {
          "output_type": "stream",
          "name": "stderr",
          "text": [
            "[I 2024-07-20 15:28:03,784] A new study created in RDB with name: DEF_kaisa_kernel_POLY_pred6_20240720\n",
            "[W 2024-07-20 15:30:05,128] Trial 0 failed with parameters: {'C': 1000.0, 'epsilon': 0.01, 'kernel': 'poly', 'degree': 4, 'coef0': 0.1, 'gamma': 'scale'} because of the following error: TimeLimitExceeded('Trial timed out').\n",
            "Traceback (most recent call last):\n",
            "  File \"/usr/local/lib/python3.10/dist-packages/optuna/study/_optimize.py\", line 196, in _run_trial\n",
            "    value_or_values = func(trial)\n",
            "  File \"<ipython-input-70-9678aa3dca64>\", line 37, in objective\n",
            "    raise TimeLimitExceeded(\"Trial timed out\")\n",
            "TimeLimitExceeded: Trial timed out\n",
            "[W 2024-07-20 15:30:05,148] Trial 0 failed with value None.\n",
            "[I 2024-07-20 15:30:36,047] Trial 1 finished with value: 0.4946255993343919 and parameters: {'C': 0.001, 'epsilon': 0.31622776601683794, 'kernel': 'poly', 'degree': 4, 'coef0': 1, 'gamma': 'scale'}. Best is trial 1 with value: 0.4946255993343919.\n",
            "[I 2024-07-20 15:31:57,680] Trial 2 finished with value: 0.48052643688403973 and parameters: {'C': 0.001, 'epsilon': 0.01, 'kernel': 'poly', 'degree': 3, 'coef0': 1, 'gamma': 'scale'}. Best is trial 2 with value: 0.48052643688403973.\n",
            "[I 2024-07-20 15:32:21,939] Trial 3 finished with value: 0.6667400418785182 and parameters: {'C': 0.001, 'epsilon': 0.31622776601683794, 'kernel': 'poly', 'degree': 5, 'coef0': 1, 'gamma': 'scale'}. Best is trial 2 with value: 0.48052643688403973.\n",
            "[I 2024-07-20 15:32:24,374] Trial 4 finished with value: 15.329145935278072 and parameters: {'C': 0.001, 'epsilon': 10.0, 'kernel': 'poly', 'degree': 5, 'coef0': 1, 'gamma': 'scale'}. Best is trial 2 with value: 0.48052643688403973.\n",
            "[I 2024-07-20 15:32:26,146] Trial 5 finished with value: 15.329145935278072 and parameters: {'C': 1.0, 'epsilon': 10.0, 'kernel': 'poly', 'degree': 4, 'coef0': 1, 'gamma': 'scale'}. Best is trial 2 with value: 0.48052643688403973.\n",
            "[W 2024-07-20 15:34:27,321] Trial 6 failed with parameters: {'C': 1000.0, 'epsilon': 0.31622776601683794, 'kernel': 'poly', 'degree': 3, 'coef0': 0.1, 'gamma': 'scale'} because of the following error: TimeLimitExceeded('Trial timed out').\n",
            "Traceback (most recent call last):\n",
            "  File \"/usr/local/lib/python3.10/dist-packages/optuna/study/_optimize.py\", line 196, in _run_trial\n",
            "    value_or_values = func(trial)\n",
            "  File \"<ipython-input-70-9678aa3dca64>\", line 37, in objective\n",
            "    raise TimeLimitExceeded(\"Trial timed out\")\n",
            "TimeLimitExceeded: Trial timed out\n",
            "[W 2024-07-20 15:34:27,335] Trial 6 failed with value None.\n",
            "[I 2024-07-20 15:34:30,056] Trial 7 finished with value: 15.329145935278072 and parameters: {'C': 1000.0, 'epsilon': 10.0, 'kernel': 'poly', 'degree': 3, 'coef0': 0.1, 'gamma': 'scale'}. Best is trial 2 with value: 0.48052643688403973.\n",
            "[I 2024-07-20 15:34:31,631] Trial 8 finished with value: 15.329145935278072 and parameters: {'C': 1.0, 'epsilon': 10.0, 'kernel': 'poly', 'degree': 3, 'coef0': 0.1, 'gamma': 'scale'}. Best is trial 2 with value: 0.48052643688403973.\n",
            "[W 2024-07-20 15:36:33,068] Trial 9 failed with parameters: {'C': 1000.0, 'epsilon': 0.31622776601683794, 'kernel': 'poly', 'degree': 5, 'coef0': 1, 'gamma': 'scale'} because of the following error: TimeLimitExceeded('Trial timed out').\n",
            "Traceback (most recent call last):\n",
            "  File \"/usr/local/lib/python3.10/dist-packages/optuna/study/_optimize.py\", line 196, in _run_trial\n",
            "    value_or_values = func(trial)\n",
            "  File \"<ipython-input-70-9678aa3dca64>\", line 37, in objective\n",
            "    raise TimeLimitExceeded(\"Trial timed out\")\n",
            "TimeLimitExceeded: Trial timed out\n",
            "[W 2024-07-20 15:36:33,071] Trial 9 failed with value None.\n",
            "[I 2024-07-20 15:37:26,460] Trial 10 finished with value: 80.01530063746951 and parameters: {'C': 1.0, 'epsilon': 0.31622776601683794, 'kernel': 'poly', 'degree': 5, 'coef0': 0.1, 'gamma': 'scale'}. Best is trial 2 with value: 0.48052643688403973.\n",
            "[I 2024-07-20 15:38:29,469] Trial 11 finished with value: 2.846353228730714 and parameters: {'C': 1.0, 'epsilon': 0.31622776601683794, 'kernel': 'poly', 'degree': 4, 'coef0': 1, 'gamma': 'scale'}. Best is trial 2 with value: 0.48052643688403973.\n",
            "[W 2024-07-20 15:40:30,676] Trial 12 failed with parameters: {'C': 1000.0, 'epsilon': 0.01, 'kernel': 'poly', 'degree': 3, 'coef0': 0.1, 'gamma': 'scale'} because of the following error: TimeLimitExceeded('Trial timed out').\n",
            "Traceback (most recent call last):\n",
            "  File \"/usr/local/lib/python3.10/dist-packages/optuna/study/_optimize.py\", line 196, in _run_trial\n",
            "    value_or_values = func(trial)\n",
            "  File \"<ipython-input-70-9678aa3dca64>\", line 37, in objective\n",
            "    raise TimeLimitExceeded(\"Trial timed out\")\n",
            "TimeLimitExceeded: Trial timed out\n",
            "[W 2024-07-20 15:40:30,689] Trial 12 failed with value None.\n",
            "[I 2024-07-20 15:40:32,213] Trial 13 finished with value: 15.329145935278072 and parameters: {'C': 1.0, 'epsilon': 10.0, 'kernel': 'poly', 'degree': 3, 'coef0': 1, 'gamma': 'scale'}. Best is trial 2 with value: 0.48052643688403973.\n",
            "[W 2024-07-20 15:42:33,640] Trial 14 failed with parameters: {'C': 1000.0, 'epsilon': 0.01, 'kernel': 'poly', 'degree': 5, 'coef0': 0.1, 'gamma': 'scale'} because of the following error: TimeLimitExceeded('Trial timed out').\n",
            "Traceback (most recent call last):\n",
            "  File \"/usr/local/lib/python3.10/dist-packages/optuna/study/_optimize.py\", line 196, in _run_trial\n",
            "    value_or_values = func(trial)\n",
            "  File \"<ipython-input-70-9678aa3dca64>\", line 37, in objective\n",
            "    raise TimeLimitExceeded(\"Trial timed out\")\n",
            "TimeLimitExceeded: Trial timed out\n",
            "[W 2024-07-20 15:42:33,644] Trial 14 failed with value None.\n",
            "[W 2024-07-20 15:44:36,182] Trial 15 failed with parameters: {'C': 1000.0, 'epsilon': 0.01, 'kernel': 'poly', 'degree': 3, 'coef0': 1, 'gamma': 'scale'} because of the following error: TimeLimitExceeded('Trial timed out').\n",
            "Traceback (most recent call last):\n",
            "  File \"/usr/local/lib/python3.10/dist-packages/optuna/study/_optimize.py\", line 196, in _run_trial\n",
            "    value_or_values = func(trial)\n",
            "  File \"<ipython-input-70-9678aa3dca64>\", line 37, in objective\n",
            "    raise TimeLimitExceeded(\"Trial timed out\")\n",
            "TimeLimitExceeded: Trial timed out\n",
            "[W 2024-07-20 15:44:36,187] Trial 15 failed with value None.\n",
            "[I 2024-07-20 15:45:06,731] Trial 16 finished with value: 0.48861404040020956 and parameters: {'C': 0.001, 'epsilon': 0.31622776601683794, 'kernel': 'poly', 'degree': 3, 'coef0': 1, 'gamma': 'scale'}. Best is trial 2 with value: 0.48052643688403973.\n",
            "[I 2024-07-20 15:45:09,635] Trial 17 finished with value: 15.329145935278072 and parameters: {'C': 0.001, 'epsilon': 10.0, 'kernel': 'poly', 'degree': 4, 'coef0': 0.1, 'gamma': 'scale'}. Best is trial 2 with value: 0.48052643688403973.\n",
            "[I 2024-07-20 15:46:26,482] Trial 18 finished with value: 0.8194739839864236 and parameters: {'C': 0.001, 'epsilon': 0.01, 'kernel': 'poly', 'degree': 4, 'coef0': 0.1, 'gamma': 'scale'}. Best is trial 2 with value: 0.48052643688403973.\n",
            "[I 2024-07-20 15:47:43,404] Trial 19 finished with value: 1.5926579676739445 and parameters: {'C': 0.001, 'epsilon': 0.01, 'kernel': 'poly', 'degree': 5, 'coef0': 0.1, 'gamma': 'scale'}. Best is trial 2 with value: 0.48052643688403973.\n",
            "[W 2024-07-20 15:49:44,468] Trial 20 failed with parameters: {'C': 1000.0, 'epsilon': 0.01, 'kernel': 'poly', 'degree': 5, 'coef0': 1, 'gamma': 'scale'} because of the following error: TimeLimitExceeded('Trial timed out').\n",
            "Traceback (most recent call last):\n",
            "  File \"/usr/local/lib/python3.10/dist-packages/optuna/study/_optimize.py\", line 196, in _run_trial\n",
            "    value_or_values = func(trial)\n",
            "  File \"<ipython-input-70-9678aa3dca64>\", line 37, in objective\n",
            "    raise TimeLimitExceeded(\"Trial timed out\")\n",
            "TimeLimitExceeded: Trial timed out\n",
            "[W 2024-07-20 15:49:44,474] Trial 20 failed with value None.\n",
            "[I 2024-07-20 15:50:26,964] Trial 21 finished with value: 7.063969032679613 and parameters: {'C': 1.0, 'epsilon': 0.31622776601683794, 'kernel': 'poly', 'degree': 4, 'coef0': 0.1, 'gamma': 'scale'}. Best is trial 2 with value: 0.48052643688403973.\n",
            "[I 2024-07-20 15:52:00,386] Trial 22 finished with value: 155.75763576465596 and parameters: {'C': 1000.0, 'epsilon': 0.31622776601683794, 'kernel': 'poly', 'degree': 5, 'coef0': 0.1, 'gamma': 'scale'}. Best is trial 2 with value: 0.48052643688403973.\n",
            "[W 2024-07-20 15:54:01,661] Trial 23 failed with parameters: {'C': 1000.0, 'epsilon': 0.31622776601683794, 'kernel': 'poly', 'degree': 4, 'coef0': 1, 'gamma': 'scale'} because of the following error: TimeLimitExceeded('Trial timed out').\n",
            "Traceback (most recent call last):\n",
            "  File \"/usr/local/lib/python3.10/dist-packages/optuna/study/_optimize.py\", line 196, in _run_trial\n",
            "    value_or_values = func(trial)\n",
            "  File \"<ipython-input-70-9678aa3dca64>\", line 37, in objective\n",
            "    raise TimeLimitExceeded(\"Trial timed out\")\n",
            "TimeLimitExceeded: Trial timed out\n",
            "[W 2024-07-20 15:54:01,664] Trial 23 failed with value None.\n",
            "[I 2024-07-20 15:54:04,068] Trial 24 finished with value: 15.329145935278072 and parameters: {'C': 0.001, 'epsilon': 10.0, 'kernel': 'poly', 'degree': 5, 'coef0': 0.1, 'gamma': 'scale'}. Best is trial 2 with value: 0.48052643688403973.\n",
            "[I 2024-07-20 15:54:06,851] Trial 25 finished with value: 15.329145935278072 and parameters: {'C': 1000.0, 'epsilon': 10.0, 'kernel': 'poly', 'degree': 5, 'coef0': 1, 'gamma': 'scale'}. Best is trial 2 with value: 0.48052643688403973.\n",
            "[I 2024-07-20 15:54:45,939] Trial 26 finished with value: 1.2253770627737115 and parameters: {'C': 1.0, 'epsilon': 0.31622776601683794, 'kernel': 'poly', 'degree': 3, 'coef0': 0.1, 'gamma': 'scale'}. Best is trial 2 with value: 0.48052643688403973.\n",
            "[I 2024-07-20 15:56:16,998] Trial 27 finished with value: 0.5050828433376139 and parameters: {'C': 0.001, 'epsilon': 0.01, 'kernel': 'poly', 'degree': 4, 'coef0': 1, 'gamma': 'scale'}. Best is trial 2 with value: 0.48052643688403973.\n",
            "[I 2024-07-20 15:56:18,494] Trial 28 finished with value: 15.329145935278072 and parameters: {'C': 1000.0, 'epsilon': 10.0, 'kernel': 'poly', 'degree': 4, 'coef0': 1, 'gamma': 'scale'}. Best is trial 2 with value: 0.48052643688403973.\n",
            "[I 2024-07-20 15:56:19,988] Trial 29 finished with value: 15.329145935278072 and parameters: {'C': 1000.0, 'epsilon': 10.0, 'kernel': 'poly', 'degree': 4, 'coef0': 0.1, 'gamma': 'scale'}. Best is trial 2 with value: 0.48052643688403973.\n",
            "[I 2024-07-20 15:56:22,363] Trial 30 finished with value: 15.329145935278072 and parameters: {'C': 1000.0, 'epsilon': 10.0, 'kernel': 'poly', 'degree': 3, 'coef0': 1, 'gamma': 'scale'}. Best is trial 2 with value: 0.48052643688403973.\n",
            "[W 2024-07-20 15:58:24,604] Trial 31 failed with parameters: {'C': 1.0, 'epsilon': 0.01, 'kernel': 'poly', 'degree': 4, 'coef0': 0.1, 'gamma': 'scale'} because of the following error: TimeLimitExceeded('Trial timed out').\n",
            "Traceback (most recent call last):\n",
            "  File \"/usr/local/lib/python3.10/dist-packages/optuna/study/_optimize.py\", line 196, in _run_trial\n",
            "    value_or_values = func(trial)\n",
            "  File \"<ipython-input-70-9678aa3dca64>\", line 37, in objective\n",
            "    raise TimeLimitExceeded(\"Trial timed out\")\n",
            "TimeLimitExceeded: Trial timed out\n",
            "[W 2024-07-20 15:58:24,630] Trial 31 failed with value None.\n",
            "[W 2024-07-20 16:00:26,954] Trial 32 failed with parameters: {'C': 1.0, 'epsilon': 0.01, 'kernel': 'poly', 'degree': 5, 'coef0': 1, 'gamma': 'scale'} because of the following error: TimeLimitExceeded('Trial timed out').\n",
            "Traceback (most recent call last):\n",
            "  File \"/usr/local/lib/python3.10/dist-packages/optuna/study/_optimize.py\", line 196, in _run_trial\n",
            "    value_or_values = func(trial)\n",
            "  File \"<ipython-input-70-9678aa3dca64>\", line 37, in objective\n",
            "    raise TimeLimitExceeded(\"Trial timed out\")\n",
            "TimeLimitExceeded: Trial timed out\n",
            "[W 2024-07-20 16:00:26,967] Trial 32 failed with value None.\n",
            "[I 2024-07-20 16:01:17,524] Trial 33 finished with value: 1.0874105979731963 and parameters: {'C': 1.0, 'epsilon': 0.31622776601683794, 'kernel': 'poly', 'degree': 3, 'coef0': 1, 'gamma': 'scale'}. Best is trial 2 with value: 0.48052643688403973.\n",
            "[I 2024-07-20 16:01:19,877] Trial 34 finished with value: 15.329145935278072 and parameters: {'C': 1000.0, 'epsilon': 10.0, 'kernel': 'poly', 'degree': 5, 'coef0': 0.1, 'gamma': 'scale'}. Best is trial 2 with value: 0.48052643688403973.\n",
            "[W 2024-07-20 16:03:21,592] Trial 35 failed with parameters: {'C': 1.0, 'epsilon': 0.01, 'kernel': 'poly', 'degree': 4, 'coef0': 1, 'gamma': 'scale'} because of the following error: TimeLimitExceeded('Trial timed out').\n",
            "Traceback (most recent call last):\n",
            "  File \"/usr/local/lib/python3.10/dist-packages/optuna/study/_optimize.py\", line 196, in _run_trial\n",
            "    value_or_values = func(trial)\n",
            "  File \"<ipython-input-70-9678aa3dca64>\", line 37, in objective\n",
            "    raise TimeLimitExceeded(\"Trial timed out\")\n",
            "TimeLimitExceeded: Trial timed out\n",
            "[W 2024-07-20 16:03:21,613] Trial 35 failed with value None.\n",
            "[I 2024-07-20 16:03:24,343] Trial 36 finished with value: 15.329145935278072 and parameters: {'C': 0.001, 'epsilon': 10.0, 'kernel': 'poly', 'degree': 4, 'coef0': 1, 'gamma': 'scale'}. Best is trial 2 with value: 0.48052643688403973.\n",
            "[I 2024-07-20 16:03:25,692] Trial 37 finished with value: 15.329145935278072 and parameters: {'C': 0.001, 'epsilon': 10.0, 'kernel': 'poly', 'degree': 3, 'coef0': 1, 'gamma': 'scale'}. Best is trial 2 with value: 0.48052643688403973.\n",
            "[I 2024-07-20 16:03:26,996] Trial 38 finished with value: 15.329145935278072 and parameters: {'C': 1.0, 'epsilon': 10.0, 'kernel': 'poly', 'degree': 5, 'coef0': 0.1, 'gamma': 'scale'}. Best is trial 2 with value: 0.48052643688403973.\n",
            "[I 2024-07-20 16:04:40,531] Trial 39 finished with value: 8.810809628892374 and parameters: {'C': 1.0, 'epsilon': 0.31622776601683794, 'kernel': 'poly', 'degree': 5, 'coef0': 1, 'gamma': 'scale'}. Best is trial 2 with value: 0.48052643688403973.\n",
            "[I 2024-07-20 16:06:04,959] Trial 40 finished with value: 0.732033948855692 and parameters: {'C': 0.001, 'epsilon': 0.01, 'kernel': 'poly', 'degree': 5, 'coef0': 1, 'gamma': 'scale'}. Best is trial 2 with value: 0.48052643688403973.\n",
            "[I 2024-07-20 16:07:28,753] Trial 41 finished with value: 0.8180586772537746 and parameters: {'C': 0.001, 'epsilon': 0.01, 'kernel': 'poly', 'degree': 3, 'coef0': 0.1, 'gamma': 'scale'}. Best is trial 2 with value: 0.48052643688403973.\n",
            "[W 2024-07-20 16:09:30,169] Trial 42 failed with parameters: {'C': 1000.0, 'epsilon': 0.31622776601683794, 'kernel': 'poly', 'degree': 3, 'coef0': 1, 'gamma': 'scale'} because of the following error: TimeLimitExceeded('Trial timed out').\n",
            "Traceback (most recent call last):\n",
            "  File \"/usr/local/lib/python3.10/dist-packages/optuna/study/_optimize.py\", line 196, in _run_trial\n",
            "    value_or_values = func(trial)\n",
            "  File \"<ipython-input-70-9678aa3dca64>\", line 37, in objective\n",
            "    raise TimeLimitExceeded(\"Trial timed out\")\n",
            "TimeLimitExceeded: Trial timed out\n",
            "[W 2024-07-20 16:09:30,201] Trial 42 failed with value None.\n",
            "[I 2024-07-20 16:09:31,991] Trial 43 finished with value: 15.329145935278072 and parameters: {'C': 0.001, 'epsilon': 10.0, 'kernel': 'poly', 'degree': 3, 'coef0': 0.1, 'gamma': 'scale'}. Best is trial 2 with value: 0.48052643688403973.\n",
            "[W 2024-07-20 16:11:33,145] Trial 44 failed with parameters: {'C': 1.0, 'epsilon': 0.01, 'kernel': 'poly', 'degree': 5, 'coef0': 0.1, 'gamma': 'scale'} because of the following error: TimeLimitExceeded('Trial timed out').\n",
            "Traceback (most recent call last):\n",
            "  File \"/usr/local/lib/python3.10/dist-packages/optuna/study/_optimize.py\", line 196, in _run_trial\n",
            "    value_or_values = func(trial)\n",
            "  File \"<ipython-input-70-9678aa3dca64>\", line 37, in objective\n",
            "    raise TimeLimitExceeded(\"Trial timed out\")\n",
            "TimeLimitExceeded: Trial timed out\n",
            "[W 2024-07-20 16:11:33,152] Trial 44 failed with value None.\n",
            "[W 2024-07-20 16:13:34,475] Trial 45 failed with parameters: {'C': 1000.0, 'epsilon': 0.01, 'kernel': 'poly', 'degree': 4, 'coef0': 1, 'gamma': 'scale'} because of the following error: TimeLimitExceeded('Trial timed out').\n",
            "Traceback (most recent call last):\n",
            "  File \"/usr/local/lib/python3.10/dist-packages/optuna/study/_optimize.py\", line 196, in _run_trial\n",
            "    value_or_values = func(trial)\n",
            "  File \"<ipython-input-70-9678aa3dca64>\", line 37, in objective\n",
            "    raise TimeLimitExceeded(\"Trial timed out\")\n",
            "TimeLimitExceeded: Trial timed out\n",
            "[W 2024-07-20 16:13:34,481] Trial 45 failed with value None.\n",
            "[I 2024-07-20 16:14:22,670] Trial 46 finished with value: 0.8235615967737866 and parameters: {'C': 0.001, 'epsilon': 0.31622776601683794, 'kernel': 'poly', 'degree': 3, 'coef0': 0.1, 'gamma': 'scale'}. Best is trial 2 with value: 0.48052643688403973.\n",
            "[W 2024-07-20 16:16:23,970] Trial 47 failed with parameters: {'C': 1.0, 'epsilon': 0.01, 'kernel': 'poly', 'degree': 3, 'coef0': 1, 'gamma': 'scale'} because of the following error: TimeLimitExceeded('Trial timed out').\n",
            "Traceback (most recent call last):\n",
            "  File \"/usr/local/lib/python3.10/dist-packages/optuna/study/_optimize.py\", line 196, in _run_trial\n",
            "    value_or_values = func(trial)\n",
            "  File \"<ipython-input-70-9678aa3dca64>\", line 37, in objective\n",
            "    raise TimeLimitExceeded(\"Trial timed out\")\n",
            "TimeLimitExceeded: Trial timed out\n",
            "[W 2024-07-20 16:16:23,973] Trial 47 failed with value None.\n",
            "[I 2024-07-20 16:17:21,688] Trial 48 finished with value: 0.8177713950328828 and parameters: {'C': 0.001, 'epsilon': 0.31622776601683794, 'kernel': 'poly', 'degree': 4, 'coef0': 0.1, 'gamma': 'scale'}. Best is trial 2 with value: 0.48052643688403973.\n",
            "[W 2024-07-20 16:19:24,259] Trial 49 failed with parameters: {'C': 1.0, 'epsilon': 0.01, 'kernel': 'poly', 'degree': 3, 'coef0': 0.1, 'gamma': 'scale'} because of the following error: TimeLimitExceeded('Trial timed out').\n",
            "Traceback (most recent call last):\n",
            "  File \"/usr/local/lib/python3.10/dist-packages/optuna/study/_optimize.py\", line 196, in _run_trial\n",
            "    value_or_values = func(trial)\n",
            "  File \"<ipython-input-70-9678aa3dca64>\", line 37, in objective\n",
            "    raise TimeLimitExceeded(\"Trial timed out\")\n",
            "TimeLimitExceeded: Trial timed out\n",
            "[W 2024-07-20 16:19:24,289] Trial 49 failed with value None.\n",
            "[W 2024-07-20 16:21:26,421] Trial 50 failed with parameters: {'C': 1000.0, 'epsilon': 0.31622776601683794, 'kernel': 'poly', 'degree': 4, 'coef0': 0.1, 'gamma': 'scale'} because of the following error: TimeLimitExceeded('Trial timed out').\n",
            "Traceback (most recent call last):\n",
            "  File \"/usr/local/lib/python3.10/dist-packages/optuna/study/_optimize.py\", line 196, in _run_trial\n",
            "    value_or_values = func(trial)\n",
            "  File \"<ipython-input-70-9678aa3dca64>\", line 37, in objective\n",
            "    raise TimeLimitExceeded(\"Trial timed out\")\n",
            "TimeLimitExceeded: Trial timed out\n",
            "[W 2024-07-20 16:21:26,459] Trial 50 failed with value None.\n",
            "[I 2024-07-20 16:22:30,417] Trial 51 finished with value: 1.488234402915117 and parameters: {'C': 0.001, 'epsilon': 0.31622776601683794, 'kernel': 'poly', 'degree': 5, 'coef0': 0.1, 'gamma': 'scale'}. Best is trial 2 with value: 0.48052643688403973.\n",
            "[I 2024-07-20 16:22:32,031] Trial 52 finished with value: 15.329145935278072 and parameters: {'C': 1.0, 'epsilon': 10.0, 'kernel': 'poly', 'degree': 5, 'coef0': 1, 'gamma': 'scale'}. Best is trial 2 with value: 0.48052643688403973.\n",
            "[I 2024-07-20 16:22:33,423] Trial 53 finished with value: 15.329145935278072 and parameters: {'C': 1.0, 'epsilon': 10.0, 'kernel': 'poly', 'degree': 4, 'coef0': 0.1, 'gamma': 'scale'}. Best is trial 2 with value: 0.48052643688403973.\n"
          ]
        },
        {
          "output_type": "stream",
          "name": "stdout",
          "text": [
            "Best hyperparameters:  {'C': 0.001, 'epsilon': 0.01, 'kernel': 'poly', 'degree': 3, 'coef0': 1, 'gamma': 'scale'}\n",
            "Best MSE:  0.48052643688403973\n",
            "Número de ensayos realizados por Optuna: 54\n"
          ]
        }
      ],
      "source": [
        "class TimeLimitExceeded(Exception):\n",
        "    pass\n",
        "\n",
        "# Define una función objetivo que Optuna utilizará para la optimización\n",
        "def objective(trial):\n",
        "    # Define los hiperparámetros comunes utilizando valores discretizados\n",
        "    C = trial.suggest_categorical('C', C_values)\n",
        "    epsilon = trial.suggest_categorical('epsilon', epsilon_values)\n",
        "    kernel = trial.suggest_categorical('kernel', kernels)\n",
        "    degree = trial.suggest_categorical('degree', degrees)  # Limita los valores de 'degree'\n",
        "    coef0 = trial.suggest_categorical('coef0', coef0_values)  # Limita los valores de 'coef0'\n",
        "    gamma = trial.suggest_categorical('gamma', gamma_values)\n",
        "\n",
        "    model = SVR(C=C, epsilon=epsilon, kernel=kernel, degree=degree, coef0=coef0, gamma=gamma)\n",
        "\n",
        "    # Define el límite de tiempo para cada ensayo\n",
        "    timeout = 120  # 60 segundos\n",
        "\n",
        "    def fit_and_predict():\n",
        "        nonlocal mse\n",
        "        # Entrena el modelo\n",
        "        model.fit(X_train, y_train)\n",
        "        # Realiza predicciones sobre el conjunto de prueba\n",
        "        y_pred = model.predict(X_test)\n",
        "        # Calcula el error cuadrático medio\n",
        "        mse = mean_squared_error(y_test, y_pred)\n",
        "\n",
        "    mse = float('inf')  # Valor predeterminado alto para MSE\n",
        "\n",
        "    # Inicia el hilo para ejecutar el modelo con límite de tiempo\n",
        "    thread = Thread(target=fit_and_predict)\n",
        "    thread.start()\n",
        "    thread.join(timeout)\n",
        "\n",
        "    if thread.is_alive():\n",
        "        # Si el hilo todavía está activo después del tiempo límite, levantamos una excepción\n",
        "        raise TimeLimitExceeded(\"Trial timed out\")\n",
        "\n",
        "    return mse\n",
        "\n",
        "# Crea un estudio de Optuna y optimiza la función objetivo\n",
        "study = optuna.create_study(study_name=new_study_name, storage=storage_url, load_if_exists=True, direction='minimize', sampler=sampler_opt)\n",
        "\n",
        "# Optimiza sin límite de tiempo total, pero con límite de tiempo por ensayo\n",
        "study.optimize(objective, n_trials=N_TRIALS, catch=(TimeLimitExceeded,))\n",
        "\n",
        "# Muestra los mejores hiperparámetros encontrados\n",
        "print(\"Best hyperparameters: \", study.best_params)\n",
        "print(\"Best MSE: \", study.best_value)\n",
        "\n",
        "# Puedes también guardar el estudio para futuras referencias\n",
        "study.trials_dataframe().to_csv(f\"optuna_study_results_POLY_{lookforward}H.csv\")\n",
        "\n",
        "# Imprime el número total de ensayos realizados\n",
        "print(f'Número de ensayos realizados por Optuna: {len(study.trials)}')\n"
      ]
    },
    {
      "cell_type": "markdown",
      "source": [
        "### tiempo total de entrenamientos"
      ],
      "metadata": {
        "id": "jxS2fXUDUWOb"
      }
    },
    {
      "cell_type": "code",
      "source": [
        "### tiempo total de entrenamientos\n",
        "total_time_hours = (poly_time_max+rbf_time_max+linear_time_max) / 60\n",
        "print(f\"El tiempo máximo total de entrenamiento es de {total_time_hours} h\")"
      ],
      "metadata": {
        "colab": {
          "base_uri": "https://localhost:8080/"
        },
        "id": "WBNoyTVXUV1p",
        "outputId": "4f655c98-b25d-4410-c4a0-979486003c9a"
      },
      "execution_count": 71,
      "outputs": [
        {
          "output_type": "stream",
          "name": "stdout",
          "text": [
            "El tiempo máximo total de entrenamiento es de 5.0 h\n"
          ]
        }
      ]
    },
    {
      "cell_type": "markdown",
      "metadata": {
        "id": "OJ-V-0cQqtmf"
      },
      "source": [
        "# 4 Evaluación de modelos"
      ]
    },
    {
      "cell_type": "markdown",
      "metadata": {
        "id": "FEh42U5aQ0vS"
      },
      "source": [
        "El mejor odelo ha sido el que tiene la siguiente configuración:\n",
        "Best hyperparameters:  {'C': 0.02682695795279726, 'epsilon': 0.1, 'kernel': 'linear'}\n",
        "Best MSE:  0.4017928218995875"
      ]
    },
    {
      "cell_type": "code",
      "source": [
        "model = SVR(kernel=\"linear\", C=0.02682695795279726, epsilon=0.1)\n",
        "model.fit(X_train, y_train)"
      ],
      "metadata": {
        "id": "VnH26_PD_P5Y"
      },
      "execution_count": null,
      "outputs": []
    },
    {
      "cell_type": "code",
      "execution_count": null,
      "metadata": {
        "id": "Ey7JZX7MQ0vS"
      },
      "outputs": [],
      "source": [
        "preds = model.predict(X_test)"
      ]
    },
    {
      "cell_type": "code",
      "source": [
        "error_nn(preds, y_test, scaler_label)"
      ],
      "metadata": {
        "id": "17cYAFlOuXaI"
      },
      "execution_count": null,
      "outputs": []
    },
    {
      "cell_type": "code",
      "source": [
        "def plot_test(df, idx_storm):\n",
        "    # Crear el gráfico\n",
        "    plt.figure(figsize=(12, 6))\n",
        "    plt.plot(df['Datetime_pred'], df['y_pred'], color='red', label='Predicción')\n",
        "    plt.plot(df['Datetime_pred'], df['y_true'], color='blue', label='Valor Real')\n",
        "\n",
        "    # Añadir título y etiquetas\n",
        "    date_start = df[\"Datetime_last_data\"].iloc[0].strftime(\"%y-%m-%d\")\n",
        "    date_end = df[\"Datetime_last_data\"].iloc[-1].strftime(\"%y-%m-%d\")\n",
        "    plt.title(f'Predicción vs Valor Real de la Tormenta {date_start}-{date_end}')\n",
        "    plt.xlabel('Fecha')\n",
        "    plt.ylabel('Dst (nT)')\n",
        "    plt.legend()\n",
        "\n",
        "    # Mejorar la apariencia\n",
        "    plt.grid(True)\n",
        "    plt.xticks(rotation=0)\n",
        "    plt.tight_layout()\n",
        "    path_to_save=f\"/content/drive/MyDrive/TFM data/RESULTADOS/SVR_{lookforward}h_res_by_storm/\"\n",
        "    os.makedirs(path_to_save, exist_ok=True)\n",
        "\n",
        "    plt.savefig(PATH_NN_RES_BY_STORM_PLOTS.format(lookforward, idx_storm+1), dpi=400)\n",
        "    # Mostrar el gráfico\n",
        "    plt.show()\n",
        "\n",
        "\n",
        "\n",
        "def plot_save_test_storms(test_storms, model, scaler_label):\n",
        "    for idx_storm, df in enumerate(test_storms):\n",
        "        x_test, y_test, date_last_data, date_pred = create_window_df_nn_test([df], lookback, lookforward, cols_to_use, col_to_predict, scaler_cols)\n",
        "        X_test = x_test.reshape(x_test.shape[0], -1)\n",
        "        print(\"x_test shape : \", X_test.shape, \"\\ny_test shape:\", y_test.shape)\n",
        "\n",
        "        preds = model.predict(X_test)\n",
        "        preds_unscaled = scaler_label.inverse_transform(preds.reshape(-1,1))\n",
        "        y_test_unscaled = scaler_label.inverse_transform(y_test.reshape(-1,1))\n",
        "        df_to_save = pd.DataFrame(\n",
        "            {\n",
        "                \"Datetime_last_data\": date_last_data,\n",
        "                \"Datetime_pred\": date_pred,\n",
        "                \"y_true\": np.squeeze(y_test_unscaled),\n",
        "                \"y_pred\": np.squeeze(preds_unscaled),\n",
        "            }\n",
        "        )\n",
        "        path_to_save=f\"/content/drive/MyDrive/TFM data/RESULTADOS/SVR_{lookforward}h_res_by_storm/\"\n",
        "        os.makedirs(path_to_save, exist_ok=True)\n",
        "        df_to_save.to_csv(PATH_NN_RES_BY_STORM.format(lookforward, idx_storm+1))\n",
        "        plot_test(df_to_save, idx_storm)\n",
        "        error_nn(preds, y_test, scaler_label)"
      ],
      "metadata": {
        "id": "274QDXmWuZMj"
      },
      "execution_count": null,
      "outputs": []
    },
    {
      "cell_type": "code",
      "source": [
        "plot_save_test_storms(test_storms, model, scaler_label)"
      ],
      "metadata": {
        "id": "jjiuw-cUubP6"
      },
      "execution_count": null,
      "outputs": []
    }
  ],
  "metadata": {
    "colab": {
      "provenance": [],
      "collapsed_sections": [
        "xHP5VOu0oiCD",
        "IiZeUiNVpNrd"
      ]
    },
    "kernelspec": {
      "display_name": "Python 3 (ipykernel)",
      "language": "python",
      "name": "python3"
    },
    "language_info": {
      "codemirror_mode": {
        "name": "ipython",
        "version": 3
      },
      "file_extension": ".py",
      "mimetype": "text/x-python",
      "name": "python",
      "nbconvert_exporter": "python",
      "pygments_lexer": "ipython3",
      "version": "3.12.4"
    }
  },
  "nbformat": 4,
  "nbformat_minor": 0
}