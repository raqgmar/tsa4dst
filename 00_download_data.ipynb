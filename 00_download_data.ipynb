{
  "nbformat": 4,
  "nbformat_minor": 0,
  "metadata": {
    "colab": {
      "provenance": [],
      "authorship_tag": "ABX9TyPijc7R1rtVWgDrDOmlSOTl",
      "include_colab_link": true
    },
    "kernelspec": {
      "name": "python3",
      "display_name": "Python 3"
    },
    "language_info": {
      "name": "python"
    }
  },
  "cells": [
    {
      "cell_type": "markdown",
      "metadata": {
        "id": "view-in-github",
        "colab_type": "text"
      },
      "source": [
        "<a href=\"https://colab.research.google.com/github/raqgmar/tsa4dst/blob/main/00_download_data.ipynb\" target=\"_parent\"><img src=\"https://colab.research.google.com/assets/colab-badge.svg\" alt=\"Open In Colab\"/></a>"
      ]
    },
    {
      "cell_type": "markdown",
      "source": [
        "## Notebook prep."
      ],
      "metadata": {
        "id": "NmFNh3t2-jb5"
      }
    },
    {
      "cell_type": "markdown",
      "source": [
        "- Mount drive"
      ],
      "metadata": {
        "id": "2Q5W3Ki8_D5j"
      }
    },
    {
      "cell_type": "code",
      "execution_count": null,
      "metadata": {
        "colab": {
          "base_uri": "https://localhost:8080/"
        },
        "id": "8vHZGG969OXF",
        "outputId": "ebacda25-d102-48da-dd59-1a19edc3d6a4"
      },
      "outputs": [
        {
          "output_type": "stream",
          "name": "stdout",
          "text": [
            "Drive already mounted at /content/drive; to attempt to forcibly remount, call drive.mount(\"/content/drive\", force_remount=True).\n"
          ]
        }
      ],
      "source": [
        "from google.colab import drive\n",
        "drive.mount('/content/drive')"
      ]
    },
    {
      "cell_type": "markdown",
      "source": [
        "- Remove anoying sample_data folder."
      ],
      "metadata": {
        "id": "DZmRmMDu-l2l"
      }
    },
    {
      "cell_type": "code",
      "source": [
        "!rm -rf sample_data/"
      ],
      "metadata": {
        "id": "56nb8INkrrT8"
      },
      "execution_count": null,
      "outputs": []
    },
    {
      "cell_type": "markdown",
      "source": [
        "- Install libraries if needed."
      ],
      "metadata": {
        "id": "u-yHRpRe-opZ"
      }
    },
    {
      "cell_type": "code",
      "source": [
        "packages = ['cdasws', 'spacepy', 'xarray', 'cdflib']"
      ],
      "metadata": {
        "id": "HyPwghJy-zIV"
      },
      "execution_count": null,
      "outputs": []
    },
    {
      "cell_type": "code",
      "source": [
        "import subprocess\n",
        "\n",
        "def install(package):\n",
        "    subprocess.check_call(['pip', 'install', '-q', package])\n",
        "\n",
        "def is_installed(package):\n",
        "    result = subprocess.run(['pip', 'show', package], stdout=subprocess.PIPE)\n",
        "    return result.returncode == 0\n",
        "\n",
        "for package in packages:\n",
        "    if not is_installed(package):\n",
        "        install(package)\n"
      ],
      "metadata": {
        "id": "7QXEhJD7_-Nr"
      },
      "execution_count": null,
      "outputs": []
    },
    {
      "cell_type": "markdown",
      "source": [
        "- Importing libraries"
      ],
      "metadata": {
        "id": "9pm6D0Y6-62d"
      }
    },
    {
      "cell_type": "code",
      "source": [
        "import pandas as pd\n",
        "from cdasws import CdasWs\n",
        "from cdasws.datarepresentation import DataRepresentation as dr\n",
        "cdas = CdasWs()\n",
        "import numpy as np"
      ],
      "metadata": {
        "id": "fKVASVsA-8ZK"
      },
      "execution_count": null,
      "outputs": []
    },
    {
      "cell_type": "markdown",
      "source": [
        "## Define functions"
      ],
      "metadata": {
        "id": "iW6ADmXb_aYO"
      }
    },
    {
      "cell_type": "code",
      "source": [
        "def names_correction_download_and_get_nulls(dict_varnames, data):\n",
        "  dict_nulls_by_var = {}\n",
        "  new_name_vars = {key.replace(\"-\", \"$\"): value for key, value in dict_varnames.items()}\n",
        "  new_name_vars[\"Epoch\"] = \"Datetime\"\n",
        "  for var in new_name_vars.keys():\n",
        "    dict_nulls_by_var[var] = data[var].attrs[\"FILLVAL\"]\n",
        "\n",
        "  return new_name_vars, dict_nulls_by_var"
      ],
      "metadata": {
        "id": "5Y5StdKs_cEs"
      },
      "execution_count": null,
      "outputs": []
    },
    {
      "cell_type": "code",
      "source": [
        "def create_df_from_source_data(data, new_name_vars, dict_nulls_by_var):\n",
        "  for key in data[list(new_name_vars.keys())]:\n",
        "    data[key] = np.where(data[key] == dict_nulls_by_var[key], np.nan, data[key])\n",
        "\n",
        "  df = pd.DataFrame(\n",
        "      data[list(new_name_vars.keys())]\n",
        "  )\n",
        "  df = df.rename(columns=new_name_vars)\n",
        "\n",
        "  return df"
      ],
      "metadata": {
        "id": "1jc603RX_lqm"
      },
      "execution_count": null,
      "outputs": []
    },
    {
      "cell_type": "markdown",
      "source": [
        "## Define data to download"
      ],
      "metadata": {
        "id": "GGqYhoi5_dYk"
      }
    },
    {
      "cell_type": "markdown",
      "source": [
        "### Selection of variables"
      ],
      "metadata": {
        "id": "HrMqyNG1_-D3"
      }
    },
    {
      "cell_type": "code",
      "source": [
        "# OMNI2_H0_MRG1HR (https://cdaweb.gsfc.nasa.gov/cgi-bin/eval1.cgi)\n",
        "name_vars_transform_1h = {\n",
        "    'IMF1800': 'ID_IMF', # ID del satélite (datos interplanetary magnetic field)\n",
        "    'PLS1800': 'ID_plasma', # ID del satélite (datos plasma)\n",
        "    'ABS_B1800' : 'Bmag', # magnitude B field (nT)\n",
        "    'SIGMA-ABS_B1800': 'dev_Bmag', # deviation of magnitude field B (nT)\n",
        "    'BX_GSE1800': 'Bx', # components of B field (p'abajo)\n",
        "    'BY_GSE1800': 'By_gse',\n",
        "    'BZ_GSE1800': 'Bz_gse',\n",
        "    'BY_GSM1800': 'By_gsm',\n",
        "    'BZ_GSM1800': 'Bz_gsm',\n",
        "    'SIGMA-Bx1800': 'dev_Bx', # deviation of components magnitude field B (nT) (p'abajo)\n",
        "    'SIGMA-By1800': 'dev_By',\n",
        "    'SIGMA-Bz1800': 'dev_Bz',\n",
        "    'N1800': 'P_density', # proton density\n",
        "    'SIGMA-N1800': 'dev_P_density', # proton density deviation\n",
        "    'Ratio1800': 'AP', # alpha/proton ratio\n",
        "    'SIGMA-ratio1800': 'dev_AP', # deviation alpha/proton ratio\n",
        "    'E1800': 'E_field', # electric fielf mV/m\n",
        "    'T1800': 'plasma_T', # plasma temperature (deg K)\n",
        "    'SIGMA-T1800' : 'dev_plasma_T', # deviation plasma temperature (deg K)\n",
        "    'V1800' : 'plasma_V', # plasma velocity (km/s)\n",
        "    'DST1800': 'Dst', # Dst index (from WDC Kyoto:  https://wdc.kugi.kyoto-u.ac.jp/dst_final/index.html)\n",
        "}\n",
        "\n",
        "# OMNI_HRO_5MIN (https://cdaweb.gsfc.nasa.gov/misc/NotesO.html#OMNI_HRO_5MIN)\n",
        "name_vars_transform_5min = {\n",
        "    'IMF': 'ID_IMF', # ID del satélite (datos interplanetary magnetic field)\n",
        "    'PLS': 'ID_plasma', # ID del satélite (datos plasma)\n",
        "    #'ABS_B1800' : 'Bmag', # NECESARIO CALCULAR\n",
        "    'BX_GSE': 'Bx', # components of B field (p'abajo)\n",
        "    'BY_GSE': 'By_gse',\n",
        "    'BZ_GSE': 'Bz_gse',\n",
        "    'BY_GSM': 'By_gsm',\n",
        "    'BZ_GSM': 'Bz_gsm',\n",
        "    'proton_density': 'P_density', # proton density\n",
        "    'NaNp_Ratio': 'AP', # alpha/proton ratio\n",
        "    'E': 'E_field', # electric fielf mV/m\n",
        "    'T': 'plasma_T', # plasma temperature (deg K)\n",
        "    'flow_speed' : 'plasma_V', # plasma velocity (km/s)\n",
        "}"
      ],
      "metadata": {
        "id": "H_BFhh1pcM4f"
      },
      "execution_count": null,
      "outputs": []
    },
    {
      "cell_type": "code",
      "source": [
        "nulls_transform_1h = {\n",
        "    'IMF1800': 'ID_IMF', # ID del satélite (datos interplanetary magnetic field)\n",
        "    'PLS1800': 'ID_plasma', # ID del satélite (datos plasma)\n",
        "    'ABS_B1800' : 'Bmag', # magnitude B field (nT)\n",
        "    'SIGMA-ABS_B1800': 'dev_Bmag', # deviation of magnitude field B (nT)\n",
        "    'BX_GSE1800': 'Bx', # components of B field (p'abajo)\n",
        "    'BY_GSE1800': 'By_gse',\n",
        "    'BZ_GSE1800': 'Bz_gse',\n",
        "    'BY_GSM1800': 'By_gsm',\n",
        "    'BZ_GSM1800': 'Bz_gsm',\n",
        "    'SIGMA-Bx1800': 'dev_Bx', # deviation of components magnitude field B (nT) (p'abajo)\n",
        "    'SIGMA-By1800': 'dev_By',\n",
        "    'SIGMA-Bz1800': 'dev_Bz',\n",
        "    'N1800': 'P_density', # proton density\n",
        "    'SIGMA-N1800': 'dev_P_density', # proton density deviation\n",
        "    'Ratio1800': 'AP', # alpha/proton ratio\n",
        "    'SIGMA-ratio1800': 'dev_AP', # deviation alpha/proton ratio\n",
        "    'E1800': 'E_field', # electric fielf mV/m\n",
        "    'T1800': 'plasma_T', # plasma temperature (deg K)\n",
        "    'SIGMA-T1800' : 'dev_plasma_T', # deviation plasma temperature (deg K)\n",
        "    'V1800' : 'plasma_V', # plasma velocity (km/s)\n",
        "    'DST1800': 'Dst', # Dst index (from WDC Kyoto:  https://wdc.kugi.kyoto-u.ac.jp/dst_final/index.html)\n",
        "}"
      ],
      "metadata": {
        "id": "oQVG1ZN4wUdl"
      },
      "execution_count": null,
      "outputs": []
    },
    {
      "cell_type": "markdown",
      "source": [
        "### Define the data (collection + time interval) to download."
      ],
      "metadata": {
        "id": "nf7BXdSU_7EZ"
      }
    },
    {
      "cell_type": "code",
      "source": [
        "time = ['2001-01-01T00:00:00.000Z', '2014-12-31T23:59:59.999Z']\n",
        "H1_code = 'OMNI2_H0_MRG1HR'\n",
        "M5_code = 'OMNI_HRO2_5MIN'\n",
        "H1_vars = list(name_vars_transform_1h.keys())\n",
        "M5_vars = list(name_vars_transform_5min.keys())"
      ],
      "metadata": {
        "id": "q49bDuZqDl8J"
      },
      "execution_count": null,
      "outputs": []
    },
    {
      "cell_type": "markdown",
      "source": [
        "## Download data"
      ],
      "metadata": {
        "id": "9tgwh8ax_zur"
      }
    },
    {
      "cell_type": "markdown",
      "source": [
        "and save to wherever you want."
      ],
      "metadata": {
        "id": "8SA2BqcFAFVC"
      }
    },
    {
      "cell_type": "code",
      "source": [
        "saving_csv='/content/drive/MyDrive/TFM data/'"
      ],
      "metadata": {
        "id": "YpwgsE0bDYgb"
      },
      "execution_count": null,
      "outputs": []
    },
    {
      "cell_type": "code",
      "source": [
        "status, data = cdas.get_data(H1_code, H1_vars, time[0], time[1])\n",
        "new_name_vars, dict_nulls_by_var = names_correction_download_and_get_nulls(name_vars_transform_1h, data)\n",
        "df_1 = create_df_from_source_data(data, new_name_vars, dict_nulls_by_var)\n",
        "df_1.to_csv(saving_csv+H1_code+'.csv', index=False)"
      ],
      "metadata": {
        "id": "R1QRNAwK7SRj"
      },
      "execution_count": null,
      "outputs": []
    },
    {
      "cell_type": "markdown",
      "source": [
        "Repeat the same with 5min data."
      ],
      "metadata": {
        "id": "eQay6dhJtEbF"
      }
    },
    {
      "cell_type": "code",
      "source": [
        "status, data = cdas.get_data(M5_code, M5_vars, time[0], time[1])\n",
        "new_name_vars, dict_nulls_by_var = names_correction_download_and_get_nulls(name_vars_transform_5min, data)\n",
        "df_2 = create_df_from_source_data(data, new_name_vars, dict_nulls_by_var)\n",
        "df_2.to_csv(saving_csv+M5_code+'.csv',index=False)"
      ],
      "metadata": {
        "id": "Ya_F7eBctGLv"
      },
      "execution_count": null,
      "outputs": []
    }
  ]
}